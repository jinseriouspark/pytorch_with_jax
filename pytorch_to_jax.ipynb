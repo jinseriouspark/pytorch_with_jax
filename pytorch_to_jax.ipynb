{
  "cells": [
    {
      "cell_type": "markdown",
      "metadata": {
        "id": "view-in-github",
        "colab_type": "text"
      },
      "source": [
        "<a href=\"https://colab.research.google.com/github/jinseriouspark/pytorch_with_jax/blob/main/pytorch_to_jax.ipynb\" target=\"_parent\"><img src=\"https://colab.research.google.com/assets/colab-badge.svg\" alt=\"Open In Colab\"/></a>"
      ]
    },
    {
      "cell_type": "markdown",
      "source": [
        "# Transform pytorch to jax\n",
        "\n",
        "- 활용자료 : https://github.com/hunkim/PyTorchZeroToAll"
      ],
      "metadata": {
        "id": "ynp9olWoHBz4"
      }
    },
    {
      "cell_type": "code",
      "source": [
        "# Transform pytorch to jax"
      ],
      "metadata": {
        "id": "WPcCYoxuG22g"
      },
      "execution_count": null,
      "outputs": []
    },
    {
      "cell_type": "code",
      "source": [
        "import pandas as pd\n",
        "\n",
        "data = pd.read_csv('/content/sample_data/california_housing_train.csv', nrows = 100)\n",
        "feature_col = 'median_income'\n",
        "target_col = 'median_house_value'"
      ],
      "metadata": {
        "id": "FLUkG_f6h6Zs"
      },
      "execution_count": 15,
      "outputs": []
    },
    {
      "cell_type": "code",
      "source": [
        "# 01_basic.py\n",
        "import numpy as np\n",
        "import matplotlib.pyplot as plt\n",
        "\n",
        "#x_data = data[feature_col].values\n",
        "#y_data = data[target_col].values\n",
        "\n",
        "x_data = [1.0, 2.0, 3.0]\n",
        "y_data = [2.0, 4.0, 6.0]\n",
        "\n",
        "# forward pass\n",
        "def forward(x):\n",
        "  return x * w\n",
        "\n",
        "# loss function\n",
        "def loss(x, y):\n",
        "  y_pred = forward(x)\n",
        "  return (y_pred - y) **2\n",
        "\n",
        "# list of weights/mean square Error (MSE) for each input\n",
        "w_list = []\n",
        "mse_list = []\n",
        "\n",
        "for w in np.arange(0.0, 4.0, 1.0):\n",
        "  l_sum = 0\n",
        "  for x_val, y_val in zip(x_data, y_data):\n",
        "    y_pred_val = forward(x_val)\n",
        "    l = loss(x_val, y_val)\n",
        "    l_sum += l\n",
        "\n",
        "    print('\\t', x_val, y_val, y_pred_val, l)\n",
        "  print('MSE=', l_sum/ len(x_data)) # 직접 평균 계산\n",
        "  w_list.append(w)\n",
        "  mse_list.append(l_sum / len(x_data))\n",
        "# Plot it all\n",
        "plt.plot(w_list, mse_list)\n",
        "plt.ylabel('Loss')\n",
        "plt.xlabel('w')\n",
        "plt.show()"
      ],
      "metadata": {
        "id": "wokSxfHZHOlU",
        "colab": {
          "base_uri": "https://localhost:8080/",
          "height": 744
        },
        "outputId": "c20819ac-7b49-438a-8dbf-436882ffa253"
      },
      "execution_count": 19,
      "outputs": [
        {
          "output_type": "stream",
          "name": "stdout",
          "text": [
            "\t 1.0 2.0 0.0 4.0\n",
            "\t 2.0 4.0 0.0 16.0\n",
            "\t 3.0 6.0 0.0 36.0\n",
            "MSE= 18.666666666666668\n",
            "\t 1.0 2.0 1.0 1.0\n",
            "\t 2.0 4.0 2.0 4.0\n",
            "\t 3.0 6.0 3.0 9.0\n",
            "MSE= 4.666666666666667\n",
            "\t 1.0 2.0 2.0 0.0\n",
            "\t 2.0 4.0 4.0 0.0\n",
            "\t 3.0 6.0 6.0 0.0\n",
            "MSE= 0.0\n",
            "\t 1.0 2.0 3.0 1.0\n",
            "\t 2.0 4.0 6.0 4.0\n",
            "\t 3.0 6.0 9.0 9.0\n",
            "MSE= 4.666666666666667\n"
          ]
        },
        {
          "output_type": "display_data",
          "data": {
            "text/plain": [
              "<Figure size 640x480 with 1 Axes>"
            ],
            "image/png": "[encoded data removed]"
          },
          "metadata": {}
        }
      ]
    },
    {
      "cell_type": "code",
      "source": [
        "# 01_basic with jax\n",
        "## jax.numpy as jnp , from jax import grad, jnp.mean() 등을 사용\n",
        "\n",
        "import datetime\n",
        "import jax.numpy as jnp\n",
        "from jax import grad\n",
        "import matplotlib.pyplot as plt\n",
        "\n",
        "start_time = datetime.datetime.now()\n",
        "# 데이터 정의\n",
        "x_data = jnp.array([1.0, 2.0, 3.0])\n",
        "y_data = jnp.array([2.0, 4.0, 6.0])\n",
        "\n",
        "# forward pass\n",
        "def forward(x, w):\n",
        "  return x * w\n",
        "# loss\n",
        "def loss(w, x, y):\n",
        "  y_pred = forward(x, w)\n",
        "  return jnp.mean((y_pred - y) **2)\n",
        "\n",
        "# grad를 계산하는 함수 생성\n",
        "grad_loss = grad(loss)\n",
        "\n",
        "# 초기 w 값 설정\n",
        "w = 1.0\n",
        "\n",
        "# w업데이트하면서 손실감소\n",
        "num_epochs = 100\n",
        "losses = []\n",
        "lr = 0.01\n",
        "\n",
        "for epoch in range(num_epochs):\n",
        "  grad_w = grad_loss(w, x_data, y_data)\n",
        "  w -= lr * grad_w\n",
        "  loss_val = loss(w, x_data, y_data)\n",
        "  losses.append(loss_val)\n",
        "  print(f'Epoch {epoch + 1}, Loss {loss_val}')\n",
        "\n",
        "end_time = datetime.datetime.now()\n",
        "print(end_time - start_time)\n",
        "plt.plot(losses)\n",
        "plt.xlabel('Epoch')\n",
        "plt.ylabel('Loss')\n",
        "plt.show()"
      ],
      "metadata": {
        "id": "9lydl-tGHAY1",
        "colab": {
          "base_uri": "https://localhost:8080/",
          "height": 1000
        },
        "outputId": "5b8a6614-222e-402f-8a01-b02d285048a5"
      },
      "execution_count": 23,
      "outputs": [
        {
          "output_type": "stream",
          "name": "stdout",
          "text": [
            "Epoch 1, Loss 3.836207151412964\n",
            "Epoch 2, Loss 3.1535325050354004\n",
            "Epoch 3, Loss 2.592343330383301\n",
            "Epoch 4, Loss 2.131021499633789\n",
            "Epoch 5, Loss 1.7517943382263184\n",
            "Epoch 6, Loss 1.4400527477264404\n",
            "Epoch 7, Loss 1.1837871074676514\n",
            "Epoch 8, Loss 0.9731259346008301\n",
            "Epoch 9, Loss 0.7999526262283325\n",
            "Epoch 10, Loss 0.6575968861579895\n",
            "Epoch 11, Loss 0.5405738353729248\n",
            "Epoch 12, Loss 0.44437557458877563\n",
            "Epoch 13, Loss 0.365296334028244\n",
            "Epoch 14, Loss 0.30028998851776123\n",
            "Epoch 15, Loss 0.24685168266296387\n",
            "Epoch 16, Loss 0.20292294025421143\n",
            "Epoch 17, Loss 0.16681180894374847\n",
            "Epoch 18, Loss 0.13712671399116516\n",
            "Epoch 19, Loss 0.11272414773702621\n",
            "Epoch 20, Loss 0.09266418218612671\n",
            "Epoch 21, Loss 0.0761740654706955\n",
            "Epoch 22, Loss 0.06261858344078064\n",
            "Epoch 23, Loss 0.05147525668144226\n",
            "Epoch 24, Loss 0.04231487959623337\n",
            "Epoch 25, Loss 0.03478473424911499\n",
            "Epoch 26, Loss 0.02859465405344963\n",
            "Epoch 27, Loss 0.02350599691271782\n",
            "Epoch 28, Loss 0.019323039799928665\n",
            "Epoch 29, Loss 0.015884418040513992\n",
            "Epoch 30, Loss 0.013057682663202286\n",
            "Epoch 31, Loss 0.01073399931192398\n",
            "Epoch 32, Loss 0.008823839016258717\n",
            "Epoch 33, Loss 0.007253610994666815\n",
            "Epoch 34, Loss 0.00596278253942728\n",
            "Epoch 35, Loss 0.0049017034471035\n",
            "Epoch 36, Loss 0.004029419273138046\n",
            "Epoch 37, Loss 0.0033123798202723265\n",
            "Epoch 38, Loss 0.0027229059487581253\n",
            "Epoch 39, Loss 0.00223835208453238\n",
            "Epoch 40, Loss 0.0018400289118289948\n",
            "Epoch 41, Loss 0.0015125819481909275\n",
            "Epoch 42, Loss 0.0012434019008651376\n",
            "Epoch 43, Loss 0.0010221307165920734\n",
            "Epoch 44, Loss 0.0008402422536164522\n",
            "Epoch 45, Loss 0.0006907067727297544\n",
            "Epoch 46, Loss 0.0005678010056726635\n",
            "Epoch 47, Loss 0.00046675006160512567\n",
            "Epoch 48, Loss 0.00038369427784346044\n",
            "Epoch 49, Loss 0.00031541852513328195\n",
            "Epoch 50, Loss 0.00025928422110155225\n",
            "Epoch 51, Loss 0.00021314274636097252\n",
            "Epoch 52, Loss 0.00017521600238978863\n",
            "Epoch 53, Loss 0.00014403677778318524\n",
            "Epoch 54, Loss 0.00011840059596579522\n",
            "Epoch 55, Loss 9.73288479144685e-05\n",
            "Epoch 56, Loss 8.000661910045892e-05\n",
            "Epoch 57, Loss 6.576994201168418e-05\n",
            "Epoch 58, Loss 5.406759009929374e-05\n",
            "Epoch 59, Loss 4.444511068868451e-05\n",
            "Epoch 60, Loss 3.6536519473884255e-05\n",
            "Epoch 61, Loss 3.003445999638643e-05\n",
            "Epoch 62, Loss 2.4689192287041806e-05\n",
            "Epoch 63, Loss 2.02947612706339e-05\n",
            "Epoch 64, Loss 1.6683987269061618e-05\n",
            "Epoch 65, Loss 1.3715703971683979e-05\n",
            "Epoch 66, Loss 1.1274603821220808e-05\n",
            "Epoch 67, Loss 9.267815585189965e-06\n",
            "Epoch 68, Loss 7.619353709742427e-06\n",
            "Epoch 69, Loss 6.26398923486704e-06\n",
            "Epoch 70, Loss 5.149629487277707e-06\n",
            "Epoch 71, Loss 4.233250365359709e-06\n",
            "Epoch 72, Loss 3.480036866676528e-06\n",
            "Epoch 73, Loss 2.8608380944206147e-06\n",
            "Epoch 74, Loss 2.3515772227256093e-06\n",
            "Epoch 75, Loss 1.9329436327097937e-06\n",
            "Epoch 76, Loss 1.5888917914708145e-06\n",
            "Epoch 77, Loss 1.3059234333923087e-06\n",
            "Epoch 78, Loss 1.0738483524619369e-06\n",
            "Epoch 79, Loss 8.825445547699928e-07\n",
            "Epoch 80, Loss 7.257014544848062e-07\n",
            "Epoch 81, Loss 5.96372842665005e-07\n",
            "Epoch 82, Loss 4.902041155219194e-07\n",
            "Epoch 83, Loss 4.0302901993527485e-07\n",
            "Epoch 84, Loss 3.3120645070994215e-07\n",
            "Epoch 85, Loss 2.7232630372964195e-07\n",
            "Epoch 86, Loss 2.2384459441582294e-07\n",
            "Epoch 87, Loss 1.8416216107652872e-07\n",
            "Epoch 88, Loss 1.5112431128727621e-07\n",
            "Epoch 89, Loss 1.2432825258201774e-07\n",
            "Epoch 90, Loss 1.0216932366802212e-07\n",
            "Epoch 91, Loss 8.396483508477104e-08\n",
            "Epoch 92, Loss 6.899654181324877e-08\n",
            "Epoch 93, Loss 5.676905345808336e-08\n",
            "Epoch 94, Loss 4.665831454531144e-08\n",
            "Epoch 95, Loss 3.842738749426644e-08\n",
            "Epoch 96, Loss 3.161292028153184e-08\n",
            "Epoch 97, Loss 2.602376980576082e-08\n",
            "Epoch 98, Loss 2.139556087854544e-08\n",
            "Epoch 99, Loss 1.757437928517902e-08\n",
            "Epoch 100, Loss 1.4449810237238125e-08\n",
            "0:00:00.776515\n"
          ]
        },
        {
          "output_type": "display_data",
          "data": {
            "text/plain": [
              "<Figure size 640x480 with 1 Axes>"
            ],
            "image/png": "[encoded data removed]"
          },
          "metadata": {}
        }
      ]
    },
    {
      "cell_type": "markdown",
      "source": [],
      "metadata": {
        "id": "6bateGiDivo1"
      }
    },
    {
      "cell_type": "code",
      "source": [
        "# 02_manual_gradient.py\n",
        "\n",
        "# training data\n",
        "x_data = [1.0, 2.0, 3.0]\n",
        "y_data = [2.0, 4.0, 6.0]\n",
        "\n",
        "w = 1.0\n",
        "\n",
        "# forward pass\n",
        "def forward(x):\n",
        "  return x * w\n",
        "\n",
        "# loss function\n",
        "def loss(x, y):\n",
        "  y_pred = forward(x)\n",
        "  return (y_pred - y) * (y_pred - y)\n",
        "\n"
      ],
      "metadata": {
        "id": "Vi2OAKCRlrco"
      },
      "execution_count": null,
      "outputs": []
    }
  ],
  "metadata": {
    "colab": {
      "name": "pytorch_to_jax",
      "provenance": [],
      "include_colab_link": true
    },
    "kernelspec": {
      "display_name": "Python 3",
      "name": "python3"
    }
  },
  "nbformat": 4,
  "nbformat_minor": 0
}