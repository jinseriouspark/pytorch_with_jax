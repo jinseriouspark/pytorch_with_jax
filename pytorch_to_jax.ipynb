{
  "cells": [
    {
      "cell_type": "markdown",
      "metadata": {
        "id": "view-in-github",
        "colab_type": "text"
      },
      "source": [
        "<a href=\"https://colab.research.google.com/github/jinseriouspark/pytorch_with_jax/blob/main/pytorch_to_jax.ipynb\" target=\"_parent\"><img src=\"https://colab.research.google.com/assets/colab-badge.svg\" alt=\"Open In Colab\"/></a>"
      ]
    },
    {
      "cell_type": "markdown",
      "source": [
        "# Transform pytorch to jax\n",
        "\n",
        "- 활용자료 : https://github.com/hunkim/PyTorchZeroToAll"
      ],
      "metadata": {
        "id": "ynp9olWoHBz4"
      }
    },
    {
      "cell_type": "code",
      "source": [
        "!git clone https://github.com/hunkim/PyTorchZeroToAll.git"
      ],
      "metadata": {
        "id": "VZeCuLmERFmh",
        "outputId": "111a708b-6fe1-4d7d-fa0b-acdc4d382c46",
        "colab": {
          "base_uri": "https://localhost:8080/"
        }
      },
      "execution_count": 203,
      "outputs": [
        {
          "output_type": "stream",
          "name": "stdout",
          "text": [
            "Cloning into 'PyTorchZeroToAll'...\n",
            "remote: Enumerating objects: 598, done.\u001b[K\n",
            "remote: Counting objects: 100% (9/9), done.\u001b[K\n",
            "remote: Compressing objects: 100% (9/9), done.\u001b[K\n",
            "remote: Total 598 (delta 3), reused 4 (delta 0), pack-reused 589\u001b[K\n",
            "Receiving objects: 100% (598/598), 52.77 MiB | 19.15 MiB/s, done.\n",
            "Resolving deltas: 100% (389/389), done.\n"
          ]
        }
      ]
    },
    {
      "cell_type": "code",
      "source": [
        "from google.colab import drive\n",
        "drive.mount('/content/drive')"
      ],
      "metadata": {
        "id": "CosN6ukkgYbf",
        "outputId": "adc41fbb-b108-43da-ffd4-fb32fe5bd7ae",
        "colab": {
          "base_uri": "https://localhost:8080/"
        }
      },
      "execution_count": 2,
      "outputs": [
        {
          "output_type": "stream",
          "name": "stdout",
          "text": [
            "Mounted at /content/drive\n"
          ]
        }
      ]
    },
    {
      "cell_type": "code",
      "source": [
        "# Transform pytorch to jax"
      ],
      "metadata": {
        "id": "WPcCYoxuG22g"
      },
      "execution_count": 3,
      "outputs": []
    },
    {
      "cell_type": "code",
      "source": [
        "import pandas as pd\n",
        "\n",
        "data = pd.read_csv('/content/sample_data/california_housing_train.csv', nrows = 100)\n",
        "feature_col = 'median_income'\n",
        "target_col = 'median_house_value'"
      ],
      "metadata": {
        "id": "FLUkG_f6h6Zs"
      },
      "execution_count": 201,
      "outputs": []
    },
    {
      "cell_type": "markdown",
      "source": [
        "# 01_basic.py"
      ],
      "metadata": {
        "id": "tzo4-YL3qfAz"
      }
    },
    {
      "cell_type": "code",
      "source": [
        "# 01_basic.py\n",
        "import numpy as np\n",
        "import matplotlib.pyplot as plt\n",
        "\n",
        "#x_data = data[feature_col].values\n",
        "#y_data = data[target_col].values\n",
        "\n",
        "x_data = [1.0, 2.0, 3.0]\n",
        "y_data = [2.0, 4.0, 6.0]\n",
        "\n",
        "# forward pass\n",
        "def forward(x):\n",
        "  return x * w\n",
        "\n",
        "# loss function\n",
        "def loss(x, y):\n",
        "  y_pred = forward(x)\n",
        "  return (y_pred - y) **2\n",
        "\n",
        "# list of weights/mean square Error (MSE) for each input\n",
        "w_list = []\n",
        "mse_list = []\n",
        "\n",
        "for w in np.arange(0.0, 4.0, 1.0):\n",
        "  l_sum = 0\n",
        "  for x_val, y_val in zip(x_data, y_data):\n",
        "    y_pred_val = forward(x_val)\n",
        "    l = loss(x_val, y_val)\n",
        "    l_sum += l\n",
        "\n",
        "    print('\\t', x_val, y_val, y_pred_val, l)\n",
        "  print('MSE=', l_sum/ len(x_data)) # 직접 평균 계산\n",
        "  w_list.append(w)\n",
        "  mse_list.append(l_sum / len(x_data))\n",
        "# Plot it all\n",
        "plt.plot(w_list, mse_list)\n",
        "plt.ylabel('Loss')\n",
        "plt.xlabel('w')\n",
        "plt.show()"
      ],
      "metadata": {
        "id": "wokSxfHZHOlU",
        "colab": {
          "base_uri": "https://localhost:8080/",
          "height": 726
        },
        "outputId": "f47169e3-8948-4101-861b-a6aef3022766"
      },
      "execution_count": 7,
      "outputs": [
        {
          "output_type": "stream",
          "name": "stdout",
          "text": [
            "\t 1.0 2.0 0.0 4.0\n",
            "\t 2.0 4.0 0.0 16.0\n",
            "\t 3.0 6.0 0.0 36.0\n",
            "MSE= 18.666666666666668\n",
            "\t 1.0 2.0 1.0 1.0\n",
            "\t 2.0 4.0 2.0 4.0\n",
            "\t 3.0 6.0 3.0 9.0\n",
            "MSE= 4.666666666666667\n",
            "\t 1.0 2.0 2.0 0.0\n",
            "\t 2.0 4.0 4.0 0.0\n",
            "\t 3.0 6.0 6.0 0.0\n",
            "MSE= 0.0\n",
            "\t 1.0 2.0 3.0 1.0\n",
            "\t 2.0 4.0 6.0 4.0\n",
            "\t 3.0 6.0 9.0 9.0\n",
            "MSE= 4.666666666666667\n"
          ]
        },
        {
          "output_type": "display_data",
          "data": {
            "text/plain": [
              "<Figure size 640x480 with 1 Axes>"
            ],
            "image/png": "[encoded data removed]"
          },
          "metadata": {}
        }
      ]
    },
    {
      "cell_type": "markdown",
      "source": [
        "## 01_basic with jax"
      ],
      "metadata": {
        "id": "O12vMT2Fqhur"
      }
    },
    {
      "cell_type": "code",
      "source": [
        "# 01_basic with jax\n",
        "## jax.numpy as jnp , from jax import grad, jnp.mean() 등을 사용\n",
        "\n",
        "import datetime\n",
        "import jax.numpy as jnp\n",
        "from jax import grad\n",
        "import matplotlib.pyplot as plt\n",
        "\n",
        "start_time = datetime.datetime.now()\n",
        "# 데이터 정의\n",
        "x_data = jnp.array([1.0, 2.0, 3.0])\n",
        "y_data = jnp.array([2.0, 4.0, 6.0])\n",
        "\n",
        "# forward pass\n",
        "def forward(x, w):\n",
        "  return x * w\n",
        "# loss\n",
        "def loss(w, x, y):\n",
        "  y_pred = forward(x, w)\n",
        "  return jnp.mean((y_pred - y) **2)\n",
        "\n",
        "# grad를 계산하는 함수 생성\n",
        "grad_loss = grad(loss)\n",
        "\n",
        "# 초기 w 값 설정\n",
        "w = 1.0\n",
        "\n",
        "# w업데이트하면서 손실감소\n",
        "num_epochs = 100\n",
        "losses = []\n",
        "lr = 0.01\n",
        "\n",
        "for epoch in range(num_epochs):\n",
        "  grad_w = grad_loss(w, x_data, y_data)\n",
        "  w -= lr * grad_w\n",
        "  loss_val = loss(w, x_data, y_data)\n",
        "  losses.append(loss_val)\n",
        "  if epoch % 10 == 0:\n",
        "      print(f'Epoch {epoch + 1}, Loss {loss_val}')\n",
        "\n",
        "end_time = datetime.datetime.now()\n",
        "print(end_time - start_time)\n",
        "plt.plot(losses)\n",
        "plt.xlabel('Epoch')\n",
        "plt.ylabel('Loss')\n",
        "plt.show()"
      ],
      "metadata": {
        "id": "9lydl-tGHAY1",
        "colab": {
          "base_uri": "https://localhost:8080/",
          "height": 643
        },
        "outputId": "32c46b21-d01c-4b75-ebf8-8fdd9932ddc0"
      },
      "execution_count": 8,
      "outputs": [
        {
          "output_type": "stream",
          "name": "stdout",
          "text": [
            "Epoch 1, Loss 3.836207151412964\n",
            "Epoch 11, Loss 0.5405738353729248\n",
            "Epoch 21, Loss 0.0761740654706955\n",
            "Epoch 31, Loss 0.01073399931192398\n",
            "Epoch 41, Loss 0.0015125819481909275\n",
            "Epoch 51, Loss 0.00021314274636097252\n",
            "Epoch 61, Loss 3.003445999638643e-05\n",
            "Epoch 71, Loss 4.233250365359709e-06\n",
            "Epoch 81, Loss 5.96372842665005e-07\n",
            "Epoch 91, Loss 8.396483508477104e-08\n",
            "0:00:02.927140\n"
          ]
        },
        {
          "output_type": "display_data",
          "data": {
            "text/plain": [
              "<Figure size 640x480 with 1 Axes>"
            ],
            "image/png": "[encoded data removed]"
          },
          "metadata": {}
        }
      ]
    },
    {
      "cell_type": "markdown",
      "source": [
        "# 02_manual_gradient.py"
      ],
      "metadata": {
        "id": "6bateGiDivo1"
      }
    },
    {
      "cell_type": "code",
      "source": [
        "# training data\n",
        "x_data = [1.0, 2.0, 3.0]\n",
        "y_data = [2.0, 4.0, 6.0]\n",
        "\n",
        "w = 1.0\n",
        "\n",
        "# forward pass\n",
        "def forward(x):\n",
        "  return x * w\n",
        "\n",
        "# loss function\n",
        "def loss(x, y):\n",
        "  y_pred = forward(x)\n",
        "  return (y_pred - y) * (y_pred - y) # 오차제곱\n",
        "\n",
        "# compute gradient\n",
        "def gradient(x, y):\n",
        "  return 2 * x * (x * w - y)\n",
        "\n",
        "# before training\n",
        "print('prediction (before training)', 4, forward(4))\n",
        "\n",
        "# training loop\n",
        "for epoch in range(10):\n",
        "  for x_val, y_val in zip(x_data, y_data):\n",
        "    grad = gradient(x_val, y_val)\n",
        "    w = w - 0.01 * grad\n",
        "    print('\\tgrad: ', x_val, y_val, round(grad, 2))\n",
        "    l = loss(x_val, y_val) # 오차 제곱을 데이터셋 별로 더하여 계산\n",
        "  print('progress:', epoch, 'w=', round(w, 2), 'loss=', round(1, 2))\n",
        "\n",
        "#after training\n",
        "print('predicted score (after training)', 4, forward(4))"
      ],
      "metadata": {
        "colab": {
          "base_uri": "https://localhost:8080/"
        },
        "id": "Vi2OAKCRlrco",
        "outputId": "55d128cd-425b-4df4-9ec2-41b8b5b65e6e"
      },
      "execution_count": 9,
      "outputs": [
        {
          "output_type": "stream",
          "name": "stdout",
          "text": [
            "prediction (before training) 4 4.0\n",
            "\tgrad:  1.0 2.0 -2.0\n",
            "\tgrad:  2.0 4.0 -7.84\n",
            "\tgrad:  3.0 6.0 -16.23\n",
            "progress: 0 w= 1.26 loss= 1\n",
            "\tgrad:  1.0 2.0 -1.48\n",
            "\tgrad:  2.0 4.0 -5.8\n",
            "\tgrad:  3.0 6.0 -12.0\n",
            "progress: 1 w= 1.45 loss= 1\n",
            "\tgrad:  1.0 2.0 -1.09\n",
            "\tgrad:  2.0 4.0 -4.29\n",
            "\tgrad:  3.0 6.0 -8.87\n",
            "progress: 2 w= 1.6 loss= 1\n",
            "\tgrad:  1.0 2.0 -0.81\n",
            "\tgrad:  2.0 4.0 -3.17\n",
            "\tgrad:  3.0 6.0 -6.56\n",
            "progress: 3 w= 1.7 loss= 1\n",
            "\tgrad:  1.0 2.0 -0.6\n",
            "\tgrad:  2.0 4.0 -2.34\n",
            "\tgrad:  3.0 6.0 -4.85\n",
            "progress: 4 w= 1.78 loss= 1\n",
            "\tgrad:  1.0 2.0 -0.44\n",
            "\tgrad:  2.0 4.0 -1.73\n",
            "\tgrad:  3.0 6.0 -3.58\n",
            "progress: 5 w= 1.84 loss= 1\n",
            "\tgrad:  1.0 2.0 -0.33\n",
            "\tgrad:  2.0 4.0 -1.28\n",
            "\tgrad:  3.0 6.0 -2.65\n",
            "progress: 6 w= 1.88 loss= 1\n",
            "\tgrad:  1.0 2.0 -0.24\n",
            "\tgrad:  2.0 4.0 -0.95\n",
            "\tgrad:  3.0 6.0 -1.96\n",
            "progress: 7 w= 1.91 loss= 1\n",
            "\tgrad:  1.0 2.0 -0.18\n",
            "\tgrad:  2.0 4.0 -0.7\n",
            "\tgrad:  3.0 6.0 -1.45\n",
            "progress: 8 w= 1.93 loss= 1\n",
            "\tgrad:  1.0 2.0 -0.13\n",
            "\tgrad:  2.0 4.0 -0.52\n",
            "\tgrad:  3.0 6.0 -1.07\n",
            "progress: 9 w= 1.95 loss= 1\n",
            "predicted score (after training) 4 7.804863933862125\n"
          ]
        }
      ]
    },
    {
      "cell_type": "markdown",
      "source": [
        "## with jax"
      ],
      "metadata": {
        "id": "MVEsUBeOqkZ_"
      }
    },
    {
      "cell_type": "code",
      "source": [
        "import jax.numpy as jnp\n",
        "from jax import grad\n",
        "\n",
        "x_data = jnp.array([1.0, 2.0, 3.0])\n",
        "y_data = jnp.array([2.0, 4.0, 6.0])\n",
        "\n",
        "w = 1.0\n",
        "\n",
        "def forward(x, w):\n",
        "  return x * w\n",
        "\n",
        "def loss(w, x, y):\n",
        "  y_pred = forward(x, w)\n",
        "  return jnp.mean((y_pred - y) ** 2)\n",
        "\n",
        "# gradient 계산,loss 함수를 입력으로 받아들여 그래디언트 계산하는 함수로 반환\n",
        "grad_loss = grad(loss)\n",
        "\n",
        "print('prediction (before_training)', forward(4, w))\n",
        "\n",
        "# training\n",
        "learning_rate= 0.01\n",
        "num_epochs = 10\n",
        "\n",
        "for epoch in range(num_epochs):\n",
        "  for x_val, y_val in zip(x_data, y_data):\n",
        "    grad_w = grad_loss(w, x_val, y_val)\n",
        "    w -= learning_rate * grad_w\n",
        "    print('\\tgrad:', x_val, y_val, round(grad_w, 2))\n",
        "    loss_val = loss(w, x_val, y_val)\n",
        "  print('progress:', epoch, 'w=', round(w, 2), 'loss=', round(loss_val, 2))\n",
        "\n",
        "# 학습 후 예측\n",
        "print('predicted score (after training):', forward(4, w))"
      ],
      "metadata": {
        "colab": {
          "base_uri": "https://localhost:8080/"
        },
        "id": "FXDrwd8rnDUU",
        "outputId": "d5b8da8f-43ac-4ab7-9285-d0747570f06d"
      },
      "execution_count": null,
      "outputs": [
        {
          "output_type": "stream",
          "name": "stdout",
          "text": [
            "prediction (before_training) 4.0\n",
            "\tgrad: 1.0 2.0 -2.0\n",
            "\tgrad: 2.0 4.0 -7.8399997\n",
            "\tgrad: 3.0 6.0 -16.23\n",
            "progress: 0 w= 1.26 loss= 4.92\n",
            "\tgrad: 1.0 2.0 -1.48\n",
            "\tgrad: 2.0 4.0 -5.7999997\n",
            "\tgrad: 3.0 6.0 -12.0\n",
            "progress: 1 w= 1.4499999 loss= 2.69\n",
            "\tgrad: 1.0 2.0 -1.09\n",
            "\tgrad: 2.0 4.0 -4.29\n",
            "\tgrad: 3.0 6.0 -8.87\n",
            "progress: 2 w= 1.5999999 loss= 1.4699999\n",
            "\tgrad: 1.0 2.0 -0.81\n",
            "\tgrad: 2.0 4.0 -3.1699998\n",
            "\tgrad: 3.0 6.0 -6.56\n",
            "progress: 3 w= 1.6999999 loss= 0.79999995\n",
            "\tgrad: 1.0 2.0 -0.59999996\n",
            "\tgrad: 2.0 4.0 -2.34\n",
            "\tgrad: 3.0 6.0 -4.85\n",
            "progress: 4 w= 1.78 loss= 0.44\n",
            "\tgrad: 1.0 2.0 -0.44\n",
            "\tgrad: 2.0 4.0 -1.73\n",
            "\tgrad: 3.0 6.0 -3.58\n",
            "progress: 5 w= 1.8399999 loss= 0.24\n",
            "\tgrad: 1.0 2.0 -0.32999998\n",
            "\tgrad: 2.0 4.0 -1.28\n",
            "\tgrad: 3.0 6.0 -2.6499999\n",
            "progress: 6 w= 1.88 loss= 0.13\n",
            "\tgrad: 1.0 2.0 -0.24\n",
            "\tgrad: 2.0 4.0 -0.95\n",
            "\tgrad: 3.0 6.0 -1.9599999\n",
            "progress: 7 w= 1.91 loss= 0.07\n",
            "\tgrad: 1.0 2.0 -0.17999999\n",
            "\tgrad: 2.0 4.0 -0.7\n",
            "\tgrad: 3.0 6.0 -1.4499999\n",
            "progress: 8 w= 1.93 loss= 0.04\n",
            "\tgrad: 1.0 2.0 -0.13\n",
            "\tgrad: 2.0 4.0 -0.52\n",
            "\tgrad: 3.0 6.0 -1.0699999\n",
            "progress: 9 w= 1.9499999 loss= 0.02\n",
            "predicted score (after training): 7.8048644\n"
          ]
        }
      ]
    },
    {
      "cell_type": "code",
      "source": [
        "# 위의 manual gradient 계산할 때는 loss 계산에서 틀린 것이 없었다."
      ],
      "metadata": {
        "id": "kPHee6J6i1Ir"
      },
      "execution_count": null,
      "outputs": []
    },
    {
      "cell_type": "code",
      "source": [
        "grad_w, loss_val"
      ],
      "metadata": {
        "colab": {
          "base_uri": "https://localhost:8080/"
        },
        "id": "9zjYLusNpLwt",
        "outputId": "4e7aaf54-043c-45c0-c742-7b49d6d2e8c9"
      },
      "execution_count": null,
      "outputs": [
        {
          "output_type": "execute_result",
          "data": {
            "text/plain": [
              "(DeviceArray(-1.0708666, dtype=float32, weak_type=True),\n",
              " DeviceArray(0.02141885, dtype=float32))"
            ]
          },
          "metadata": {},
          "execution_count": 70
        }
      ]
    },
    {
      "cell_type": "markdown",
      "source": [
        "# 03_auto_gradient.py"
      ],
      "metadata": {
        "id": "UDkcoyF_qV4O"
      }
    },
    {
      "cell_type": "code",
      "source": [
        "l.backward()"
      ],
      "metadata": {
        "colab": {
          "base_uri": "https://localhost:8080/",
          "height": 356
        },
        "id": "LSZ-pAkqlLHJ",
        "outputId": "1fa36e20-45cd-4592-dcf6-46eb5653b2e0"
      },
      "execution_count": 72,
      "outputs": [
        {
          "output_type": "error",
          "ename": "RuntimeError",
          "evalue": "Trying to backward through the graph a second time (or directly access saved tensors after they have already been freed). Saved intermediate values of the graph are freed when you call .backward() or autograd.grad(). Specify retain_graph=True if you need to backward through the graph a second time or if you need to access saved tensors after calling backward.",
          "traceback": [
            "\u001b[0;31m---------------------------------------------------------------------------\u001b[0m",
            "\u001b[0;31mRuntimeError\u001b[0m                              Traceback (most recent call last)",
            "\u001b[0;32m<ipython-input-72-99d4765682f1>\u001b[0m in \u001b[0;36m<cell line: 1>\u001b[0;34m()\u001b[0m\n\u001b[0;32m----> 1\u001b[0;31m \u001b[0ml\u001b[0m\u001b[0;34m.\u001b[0m\u001b[0mbackward\u001b[0m\u001b[0;34m(\u001b[0m\u001b[0;34m)\u001b[0m\u001b[0;34m\u001b[0m\u001b[0;34m\u001b[0m\u001b[0m\n\u001b[0m",
            "\u001b[0;32m/usr/local/lib/python3.10/dist-packages/torch/_tensor.py\u001b[0m in \u001b[0;36mbackward\u001b[0;34m(self, gradient, retain_graph, create_graph, inputs)\u001b[0m\n\u001b[1;32m    520\u001b[0m                 \u001b[0minputs\u001b[0m\u001b[0;34m=\u001b[0m\u001b[0minputs\u001b[0m\u001b[0;34m,\u001b[0m\u001b[0;34m\u001b[0m\u001b[0;34m\u001b[0m\u001b[0m\n\u001b[1;32m    521\u001b[0m             )\n\u001b[0;32m--> 522\u001b[0;31m         torch.autograd.backward(\n\u001b[0m\u001b[1;32m    523\u001b[0m             \u001b[0mself\u001b[0m\u001b[0;34m,\u001b[0m \u001b[0mgradient\u001b[0m\u001b[0;34m,\u001b[0m \u001b[0mretain_graph\u001b[0m\u001b[0;34m,\u001b[0m \u001b[0mcreate_graph\u001b[0m\u001b[0;34m,\u001b[0m \u001b[0minputs\u001b[0m\u001b[0;34m=\u001b[0m\u001b[0minputs\u001b[0m\u001b[0;34m\u001b[0m\u001b[0;34m\u001b[0m\u001b[0m\n\u001b[1;32m    524\u001b[0m         )\n",
            "\u001b[0;32m/usr/local/lib/python3.10/dist-packages/torch/autograd/__init__.py\u001b[0m in \u001b[0;36mbackward\u001b[0;34m(tensors, grad_tensors, retain_graph, create_graph, grad_variables, inputs)\u001b[0m\n\u001b[1;32m    264\u001b[0m     \u001b[0;31m# some Python versions print out the first line of a multi-line function\u001b[0m\u001b[0;34m\u001b[0m\u001b[0;34m\u001b[0m\u001b[0m\n\u001b[1;32m    265\u001b[0m     \u001b[0;31m# calls in the traceback and some print out the last line\u001b[0m\u001b[0;34m\u001b[0m\u001b[0;34m\u001b[0m\u001b[0m\n\u001b[0;32m--> 266\u001b[0;31m     Variable._execution_engine.run_backward(  # Calls into the C++ engine to run the backward pass\n\u001b[0m\u001b[1;32m    267\u001b[0m         \u001b[0mtensors\u001b[0m\u001b[0;34m,\u001b[0m\u001b[0;34m\u001b[0m\u001b[0;34m\u001b[0m\u001b[0m\n\u001b[1;32m    268\u001b[0m         \u001b[0mgrad_tensors_\u001b[0m\u001b[0;34m,\u001b[0m\u001b[0;34m\u001b[0m\u001b[0;34m\u001b[0m\u001b[0m\n",
            "\u001b[0;31mRuntimeError\u001b[0m: Trying to backward through the graph a second time (or directly access saved tensors after they have already been freed). Saved intermediate values of the graph are freed when you call .backward() or autograd.grad(). Specify retain_graph=True if you need to backward through the graph a second time or if you need to access saved tensors after calling backward."
          ]
        }
      ]
    },
    {
      "cell_type": "code",
      "source": [
        "import torch\n",
        "import pdb\n",
        "\n",
        "x_data = [1.0, 2.0, 3.0]\n",
        "y_data = [2.0, 4.0, 6.0]\n",
        "w = torch.tensor([1.0], requires_grad = True)\n",
        "\n",
        "# forward pass\n",
        "def forward(x):\n",
        "  return x * w\n",
        "\n",
        "# loss function\n",
        "def loss(y_pred, y_val):\n",
        "  return (y_pred - y_val) **2\n",
        "\n",
        "# before training\n",
        "print('prediction (before training)', 4, forward(4).item())\n",
        "\n",
        "# training loop\n",
        "for epoch in range(1):\n",
        "  for x_val, y_val in zip(x_data, y_data):\n",
        "    y_pred = forward(x_val) # 1) forward pass\n",
        "    l = loss(y_pred, y_val) # 2) compute loss\n",
        "    print(f'{y_pred},{y_val} loss : {l.item()}')\n",
        "    l.backward() # 3) backpropagation to update weights\n",
        "    #print('\\t grad:', x_val, y_val, w.grad.item())\n",
        "    w.data = w.data - 0.01 * w.grad.item()\n",
        "\n",
        "    w.grad.data.zero_()\n",
        "  print(f'Epoch: {epoch} | loss : {l.item()}')\n",
        "\n",
        "# after training\n",
        "print('prediction (after training)', 4, forward(4).item())"
      ],
      "metadata": {
        "colab": {
          "base_uri": "https://localhost:8080/"
        },
        "id": "CqTUzucjpVbX",
        "outputId": "f4439ef6-5d74-4ce0-f7db-986b9ab34ce3"
      },
      "execution_count": 73,
      "outputs": [
        {
          "output_type": "stream",
          "name": "stdout",
          "text": [
            "prediction (before training) 4 4.0\n",
            "tensor([1.], grad_fn=<MulBackward0>),2.0 loss : 1.0\n",
            "tensor([2.0400], grad_fn=<MulBackward0>),4.0 loss : 3.841600179672241\n",
            "tensor([3.2952], grad_fn=<MulBackward0>),6.0 loss : 7.315943717956543\n",
            "Epoch: 0 | loss : 7.315943717956543\n",
            "prediction (after training) 4 5.042752265930176\n"
          ]
        }
      ]
    },
    {
      "cell_type": "code",
      "source": [
        "loss(2.04, 4)"
      ],
      "metadata": {
        "colab": {
          "base_uri": "https://localhost:8080/"
        },
        "id": "DnthykkpriNw",
        "outputId": "26879f86-80f5-4a78-e7b6-c3b2db54cc5a"
      },
      "execution_count": 70,
      "outputs": [
        {
          "output_type": "execute_result",
          "data": {
            "text/plain": [
              "3.8415999999999997"
            ]
          },
          "metadata": {},
          "execution_count": 70
        }
      ]
    },
    {
      "cell_type": "markdown",
      "source": [
        "## with jax\n",
        "- torch 구현보다 예측력이 떨어진다!?"
      ],
      "metadata": {
        "id": "kSwVz9EdqnPf"
      }
    },
    {
      "cell_type": "code",
      "source": [],
      "metadata": {
        "colab": {
          "base_uri": "https://localhost:8080/"
        },
        "id": "IdiTnoPKro1K",
        "outputId": "4f64b494-5849-4060-f00c-d68209c9c66f"
      },
      "execution_count": 145,
      "outputs": [
        {
          "output_type": "stream",
          "name": "stdout",
          "text": [
            "y_pred : 1.0, y_true:2.0\n",
            "torch loss: 1.0, w grad : -2.0\n",
            "jax loss: 1.0, y grad: -2.0\n",
            "jax loss: 1.0, param grad: [-2.]\n",
            "----------\n",
            "y_pred : 2.0, y_true:4.0\n",
            "torch loss: 4.0, w grad : -8.0\n",
            "jax loss: 4.0, y grad: -4.0\n",
            "jax loss: 4.0, param grad: [-8.]\n",
            "----------\n",
            "y_pred : 3.0, y_true:6.0\n",
            "torch loss: 9.0, w grad : -18.0\n",
            "jax loss: 9.0, y grad: -6.0\n",
            "jax loss: 9.0, param grad: [-18.]\n",
            "----------\n"
          ]
        }
      ]
    },
    {
      "cell_type": "code",
      "source": [
        "# 수정 전\n",
        "import jax.numpy as jnp\n",
        "from jax import grad\n",
        "\n",
        "x_data = jnp.array([1.0, 2.0, 3.0])\n",
        "y_data = jnp.array([2.0, 4.0, 6.0])\n",
        "\n",
        "w = jnp.array([1.0]) # 당연하게 requires_grad = True 는 없다\n",
        "\n",
        "def forward(x):\n",
        "  return x * w\n",
        "\n",
        "def loss(y_pred, y_val):\n",
        "  return (y_pred - y_val)**2\n",
        "\n",
        "learning_rate = 0.01\n",
        "grad_loss = grad(loss)\n",
        "\n",
        "print('prediction (before training)', 4, forward(4)[0])\n",
        "\n",
        "for epoch in range(20):\n",
        "  for x_val, y_val in zip(x_data, y_data):\n",
        "    # y_pred = forward(x_val) # 1) forward pass\n",
        "    #l = loss(y_pred, y_val) # 2) compute loss\n",
        "    #l.backward() # 3) backpropagation to update weights\n",
        "    #print('\\t grad:', x_val, y_val, w.grad.item())\n",
        "    y_pred = forward(x_val)\n",
        "    grad_w = grad_loss(y_pred[0],y_val)\n",
        "    w -= learning_rate * grad_w\n",
        "    print('\\tgrad: ', x_val, y_val, grad_w)\n",
        "\n",
        "  print(f'Epoch: {epoch} | Loss: {loss(forward(x_data), y_data)}')\n",
        "\n",
        "print('prediction (after training)', 4, forward(4)[0], '-> 잘못된 grad() 사용으로 인한 결과물 오류 ')"
      ],
      "metadata": {
        "colab": {
          "base_uri": "https://localhost:8080/"
        },
        "id": "kTRvGqLtqm7X",
        "outputId": "294d841d-8ea6-41d7-992a-e4106a171a1b"
      },
      "execution_count": 153,
      "outputs": [
        {
          "output_type": "stream",
          "name": "stdout",
          "text": [
            "prediction (before training) 4 4.0\n",
            "\tgrad:  1.0 2.0 -2.0\n",
            "\tgrad:  2.0 4.0 -3.92\n",
            "\tgrad:  3.0 6.0 -5.6448\n",
            "Epoch: 0 | Loss: [0.7820786 3.1283145 7.038707 ]\n",
            "\tgrad:  1.0 2.0 -1.7687042\n",
            "\tgrad:  2.0 4.0 -3.46666\n",
            "\tgrad:  3.0 6.0 -4.99199\n",
            "Epoch: 1 | Loss: [0.6116468 2.446587  5.5048213]\n",
            "\tgrad:  1.0 2.0 -1.564157\n",
            "\tgrad:  2.0 4.0 -3.0657477\n",
            "\tgrad:  3.0 6.0 -4.4146767\n",
            "Epoch: 2 | Loss: [0.4783557 1.9134228 4.3052006]\n",
            "\tgrad:  1.0 2.0 -1.3832653\n",
            "\tgrad:  2.0 4.0 -2.7111998\n",
            "\tgrad:  3.0 6.0 -3.9041271\n",
            "Epoch: 3 | Loss: [0.37411162 1.4964465  3.3670046 ]\n",
            "\tgrad:  1.0 2.0 -1.2232933\n",
            "\tgrad:  2.0 4.0 -2.397655\n",
            "\tgrad:  3.0 6.0 -3.4526234\n",
            "Epoch: 4 | Loss: [0.29258466 1.1703386  2.6332629 ]\n",
            "\tgrad:  1.0 2.0 -1.0818219\n",
            "\tgrad:  2.0 4.0 -2.1203709\n",
            "\tgrad:  3.0 6.0 -3.0533333\n",
            "Epoch: 5 | Loss: [0.22882412 0.9152965  2.0594177 ]\n",
            "\tgrad:  1.0 2.0 -0.9567113\n",
            "\tgrad:  2.0 4.0 -1.875154\n",
            "\tgrad:  3.0 6.0 -2.700222\n",
            "Epoch: 6 | Loss: [0.17895843 0.7158337  1.6106262 ]\n",
            "\tgrad:  1.0 2.0 -0.8460696\n",
            "\tgrad:  2.0 4.0 -1.6582966\n",
            "\tgrad:  3.0 6.0 -2.387947\n",
            "Epoch: 7 | Loss: [0.13995953 0.5598381  1.2596358 ]\n",
            "\tgrad:  1.0 2.0 -0.7482233\n",
            "\tgrad:  2.0 4.0 -1.4665174\n",
            "\tgrad:  3.0 6.0 -2.111786\n",
            "Epoch: 8 | Loss: [0.10945936 0.43783745 0.9851345 ]\n",
            "\tgrad:  1.0 2.0 -0.66169286\n",
            "\tgrad:  2.0 4.0 -1.2969179\n",
            "\tgrad:  3.0 6.0 -1.8675623\n",
            "Epoch: 9 | Loss: [0.08560585 0.3424234  0.77045244]\n",
            "\tgrad:  1.0 2.0 -0.58516955\n",
            "\tgrad:  2.0 4.0 -1.1469321\n",
            "\tgrad:  3.0 6.0 -1.6515818\n",
            "Epoch: 10 | Loss: [0.06695043 0.26780173 0.60255355]\n",
            "\tgrad:  1.0 2.0 -0.51749563\n",
            "\tgrad:  2.0 4.0 -1.0142913\n",
            "\tgrad:  3.0 6.0 -1.4605789\n",
            "Epoch: 11 | Loss: [0.05236049 0.20944194 0.47124436]\n",
            "\tgrad:  1.0 2.0 -0.45764828\n",
            "\tgrad:  2.0 4.0 -0.8969908\n",
            "\tgrad:  3.0 6.0 -1.291667\n",
            "Epoch: 12 | Loss: [0.04095002 0.16380008 0.36855015]\n",
            "\tgrad:  1.0 2.0 -0.4047222\n",
            "\tgrad:  2.0 4.0 -0.7932553\n",
            "\tgrad:  3.0 6.0 -1.1422882\n",
            "Epoch: 13 | Loss: [0.03202612 0.12810446 0.28823504]\n",
            "\tgrad:  1.0 2.0 -0.35791683\n",
            "\tgrad:  2.0 4.0 -0.7015171\n",
            "\tgrad:  3.0 6.0 -1.0101843\n",
            "Epoch: 14 | Loss: [0.02504694 0.10018776 0.22542247]\n",
            "\tgrad:  1.0 2.0 -0.3165245\n",
            "\tgrad:  2.0 4.0 -0.62038803\n",
            "\tgrad:  3.0 6.0 -0.89335823\n",
            "Epoch: 15 | Loss: [0.01958868 0.07835473 0.17629834]\n",
            "\tgrad:  1.0 2.0 -0.27991915\n",
            "\tgrad:  2.0 4.0 -0.5486417\n",
            "\tgrad:  3.0 6.0 -0.7900448\n",
            "Epoch: 16 | Loss: [0.0153199  0.06127959 0.13787907]\n",
            "\tgrad:  1.0 2.0 -0.24754715\n",
            "\tgrad:  2.0 4.0 -0.4851923\n",
            "\tgrad:  3.0 6.0 -0.69867706\n",
            "Epoch: 17 | Loss: [0.01198136 0.04792544 0.10783225]\n",
            "\tgrad:  1.0 2.0 -0.2189188\n",
            "\tgrad:  2.0 4.0 -0.42908096\n",
            "\tgrad:  3.0 6.0 -0.61787605\n",
            "Epoch: 18 | Loss: [0.00937037 0.03748149 0.08433329]\n",
            "\tgrad:  1.0 2.0 -0.19360137\n",
            "\tgrad:  2.0 4.0 -0.3794589\n",
            "\tgrad:  3.0 6.0 -0.54642105\n",
            "Epoch: 19 | Loss: [0.00732838 0.02931353 0.06595539]\n",
            "prediction (after training) 4 7.657576 -> 잘못된 grad() 사용으로 인한 결과물 오류 \n"
          ]
        }
      ]
    },
    {
      "cell_type": "markdown",
      "source": [
        "## 오류 해결:  torch w.grad.data.zeros_() 와 jax.grad(, argnums = (0,1)) 를 비교"
      ],
      "metadata": {
        "id": "5liyTR9e2FIU"
      }
    },
    {
      "cell_type": "code",
      "source": [
        "# torch, jax 간 같은 loss 함수를 사용함에도 불구하고 사용법에 따라 문제가 발생하는 이유\n",
        "# grad 를 계산하는 방식이 다름\n",
        "## torch\n",
        "# l = loss(y_pred, y_true)\n",
        "# l.backward()\n",
        "\n",
        "## jax\n",
        "# grad_loss=grad(loss)\n",
        "# grad_loss(y_pred, y_true)\n",
        "\n",
        "\n",
        "w_torch = torch.tensor([1.0], requires_grad = True)\n",
        "w_jax = jnp.array([1.0]) # 당연하게 requires_grad = True 는 없다\n",
        "def forward_torch(x):\n",
        "    return x * w_torch\n",
        "def forward_jax(w_jax, x):\n",
        "    return x * w_jax\n",
        "\n",
        "def loss(y_pred, y_true):\n",
        "    return (y_pred - y_true) **2\n",
        "\n",
        "def loss_fn(params, x, y):\n",
        "    return jnp.mean((forward_jax(params, x) - y) **2)\n",
        "\n",
        "\n",
        "x_data_torch = torch.tensor([1.0, 2.0, 3.0], requires_grad=False)\n",
        "y_data_torch = torch.tensor([2.0, 4.0, 6.0], requires_grad=False)\n",
        "\n",
        "x_data_jax = jnp.array([1.0, 2.0, 3.0])\n",
        "y_data_jax = jnp.array([2.0, 4.0, 6.0])\n",
        "\n",
        "for x_val_t, y_val_t, x_val_j, y_val_j in zip(x_data_torch, y_data_torch, x_data_jax, y_data_jax):\n",
        "\n",
        "    # torch\n",
        "    y_pred_torch = forward_torch(x_val_t)\n",
        "    l = loss(y_pred_torch, y_val_t)\n",
        "    l.backward()\n",
        "    print(f'y_pred : {y_pred_torch.item()}, y_true:{y_val_t}')\n",
        "    print(f'torch loss: {l.item()}, w grad : {w_torch.grad.item()}') # w에 대한 gradient 였음\n",
        "    w_torch.grad.data.zero_()\n",
        "\n",
        "    # jax\n",
        "    y_pred_jax = forward_jax(w_jax, x_val_j)\n",
        "   #print(f'y_pred : {y_pred_jax[0]}, y_true:{y_val}')\n",
        "    jax_loss = loss(y_pred_jax[0], y_val_j)\n",
        "    grad_ = grad_loss(y_pred_jax[0], y_val_j) # 이런 방식으로 gradient 를 구한다면, y에 대한 gradient 가 출력됨\n",
        "    print(f'jax loss: {jax_loss}, y grad: {grad_}')\n",
        "\n",
        "    grad2 = jax.grad(loss_fn, argnums=(0, 1))(w_jax, x_val_j, y_val_j)\n",
        "    # 위와 같은 방식으로 해야만 제대로 weight 에 대한 gradient 를 계산할 수 있음\n",
        "    print(f'jax loss: {jax_loss}, param grad: {grad2[0]}')\n",
        "    print('-' * 10)"
      ],
      "metadata": {
        "colab": {
          "base_uri": "https://localhost:8080/"
        },
        "id": "aGg1kVUlml2y",
        "outputId": "ebadc42b-1245-4120-8b0f-c3b5278cd26e"
      },
      "execution_count": 40,
      "outputs": [
        {
          "output_type": "execute_result",
          "data": {
            "text/plain": [
              "Array(7.657576, dtype=float32)"
            ]
          },
          "metadata": {},
          "execution_count": 40
        }
      ]
    },
    {
      "cell_type": "code",
      "source": [
        "# 수정 후\n",
        "import jax.numpy as jnp\n",
        "from jax import grad\n",
        "\n",
        "x_data = jnp.array([1.0, 2.0, 3.0])\n",
        "y_data = jnp.array([2.0, 4.0, 6.0])\n",
        "\n",
        "w = jnp.array([1.0]) # 당연하게 requires_grad = True 는 없다\n",
        "\n",
        "def forward(x):\n",
        "  return x * w\n",
        "\n",
        "def loss(y_pred, y_val):\n",
        "  return (y_pred - y_val)**2\n",
        "\n",
        "learning_rate = 0.01\n",
        "\n",
        "print('prediction (before training)', 4, forward(4)[0])\n",
        "\n",
        "for epoch in range(20):\n",
        "  for x_val, y_val in zip(x_data, y_data):\n",
        "    # y_pred = forward(x_val) # 1) forward pass\n",
        "    #l = loss(y_pred, y_val) # 2) compute loss\n",
        "    #l.backward() # 3) backpropagation to update weights\n",
        "    #print('\\t grad:', x_val, y_val, w.grad.item())\n",
        "    y_pred = forward(x_val)\n",
        "    grad_w = jax.grad(loss_fn, argnums=(0, 1))(w, x_val, y_val)\n",
        "    w -= learning_rate * grad_w[0]\n",
        "    print('\\tgrad: ', x_val, y_val, grad_w[0])\n",
        "\n",
        "  print(f'Epoch: {epoch} | Loss: {loss(forward(x_data), y_data)}')\n",
        "\n",
        "print('prediction (after training)', 4, forward(4)[0], '->제대로 학습한 결과물 ')"
      ],
      "metadata": {
        "colab": {
          "base_uri": "https://localhost:8080/"
        },
        "id": "wKoR3NMTmnRz",
        "outputId": "ef88176d-14bc-49c9-d6a0-332d3b7e3771"
      },
      "execution_count": 158,
      "outputs": [
        {
          "output_type": "stream",
          "name": "stdout",
          "text": [
            "prediction (before training) 4 4.0\n",
            "\tgrad:  1.0 2.0 [-2.]\n",
            "\tgrad:  2.0 4.0 [-7.84]\n",
            "\tgrad:  3.0 6.0 [-16.228802]\n",
            "Epoch: 0 | Loss: [0.54658216 2.1863286  4.919239  ]\n",
            "\tgrad:  1.0 2.0 [-1.4786239]\n",
            "\tgrad:  2.0 4.0 [-5.7962055]\n",
            "\tgrad:  3.0 6.0 [-11.998146]\n",
            "Epoch: 1 | Loss: [0.29875213 1.1950085  2.688769  ]\n",
            "\tgrad:  1.0 2.0 [-1.0931644]\n",
            "\tgrad:  2.0 4.0 [-4.285205]\n",
            "\tgrad:  3.0 6.0 [-8.870373]\n",
            "Epoch: 2 | Loss: [0.16329262 0.65317047 1.4696338 ]\n",
            "\tgrad:  1.0 2.0 [-0.80818963]\n",
            "\tgrad:  2.0 4.0 [-3.1681032]\n",
            "\tgrad:  3.0 6.0 [-6.557974]\n",
            "Epoch: 3 | Loss: [0.0892528  0.3570112  0.80327564]\n",
            "\tgrad:  1.0 2.0 [-0.59750414]\n",
            "\tgrad:  2.0 4.0 [-2.3422165]\n",
            "\tgrad:  3.0 6.0 [-4.8483896]\n",
            "Epoch: 4 | Loss: [0.04878404 0.19513616 0.43905652]\n",
            "\tgrad:  1.0 2.0 [-0.44174218]\n",
            "\tgrad:  2.0 4.0 [-1.7316294]\n",
            "\tgrad:  3.0 6.0 [-3.5844727]\n",
            "Epoch: 5 | Loss: [0.02666449 0.10665795 0.23998016]\n",
            "\tgrad:  1.0 2.0 [-0.3265853]\n",
            "\tgrad:  2.0 4.0 [-1.2802143]\n",
            "\tgrad:  3.0 6.0 [-2.6500454]\n",
            "Epoch: 6 | Loss: [0.01457433 0.05829733 0.13116899]\n",
            "\tgrad:  1.0 2.0 [-0.2414484]\n",
            "\tgrad:  2.0 4.0 [-0.9464779]\n",
            "\tgrad:  3.0 6.0 [-1.9592113]\n",
            "Epoch: 7 | Loss: [0.00796607 0.03186427 0.07169455]\n",
            "\tgrad:  1.0 2.0 [-0.17850566]\n",
            "\tgrad:  2.0 4.0 [-0.6997423]\n",
            "\tgrad:  3.0 6.0 [-1.4484673]\n",
            "Epoch: 8 | Loss: [0.00435411 0.01741644 0.03918699]\n",
            "\tgrad:  1.0 2.0 [-0.13197136]\n",
            "\tgrad:  2.0 4.0 [-0.5173273]\n",
            "\tgrad:  3.0 6.0 [-1.0708666]\n",
            "Epoch: 9 | Loss: [0.00237987 0.00951947 0.02141885]\n",
            "\tgrad:  1.0 2.0 [-0.0975678]\n",
            "\tgrad:  2.0 4.0 [-0.38246536]\n",
            "\tgrad:  3.0 6.0 [-0.7917023]\n",
            "Epoch: 10 | Loss: [0.00130079 0.00520314 0.01170705]\n",
            "\tgrad:  1.0 2.0 [-0.07213283]\n",
            "\tgrad:  2.0 4.0 [-0.28276062]\n",
            "\tgrad:  3.0 6.0 [-0.5853138]\n",
            "Epoch: 11 | Loss: [0.00071098 0.00284393 0.00639884]\n",
            "\tgrad:  1.0 2.0 [-0.05332851]\n",
            "\tgrad:  2.0 4.0 [-0.20904732]\n",
            "\tgrad:  3.0 6.0 [-0.43272972]\n",
            "Epoch: 12 | Loss: [0.00038861 0.00155444 0.00349745]\n",
            "\tgrad:  1.0 2.0 [-0.03942633]\n",
            "\tgrad:  2.0 4.0 [-0.1545515]\n",
            "\tgrad:  3.0 6.0 [-0.3199196]\n",
            "Epoch: 13 | Loss: [0.00021241 0.00084963 0.00191167]\n",
            "\tgrad:  1.0 2.0 [-0.02914834]\n",
            "\tgrad:  2.0 4.0 [-0.11426163]\n",
            "\tgrad:  3.0 6.0 [-0.23652077]\n",
            "Epoch: 14 | Loss: [0.0001161  0.00046439 0.00104489]\n",
            "\tgrad:  1.0 2.0 [-0.0215497]\n",
            "\tgrad:  2.0 4.0 [-0.08447456]\n",
            "\tgrad:  3.0 6.0 [-0.17486286]\n",
            "Epoch: 15 | Loss: [6.3455918e-05 2.5382367e-04 5.7109760e-04]\n",
            "\tgrad:  1.0 2.0 [-0.01593184]\n",
            "\tgrad:  2.0 4.0 [-0.06245327]\n",
            "\tgrad:  3.0 6.0 [-0.12927818]\n",
            "Epoch: 16 | Loss: [3.4683813e-05 1.3873525e-04 3.1215011e-04]\n",
            "\tgrad:  1.0 2.0 [-0.01177859]\n",
            "\tgrad:  2.0 4.0 [-0.04617214]\n",
            "\tgrad:  3.0 6.0 [-0.09557533]\n",
            "Epoch: 17 | Loss: [1.8958355e-05 7.5833421e-05 1.7062831e-04]\n",
            "\tgrad:  1.0 2.0 [-0.00870824]\n",
            "\tgrad:  2.0 4.0 [-0.03413582]\n",
            "\tgrad:  3.0 6.0 [-0.07066154]\n",
            "Epoch: 18 | Loss: [1.0361248e-05 4.1444993e-05 9.3255832e-05]\n",
            "\tgrad:  1.0 2.0 [-0.00643778]\n",
            "\tgrad:  2.0 4.0 [-0.02523613]\n",
            "\tgrad:  3.0 6.0 [-0.05223942]\n",
            "Epoch: 19 | Loss: [5.6633294e-06 2.2653318e-05 5.0968261e-05]\n",
            "prediction (after training) 4 7.990481 ->제대로 학습한 결과물 \n"
          ]
        }
      ]
    },
    {
      "cell_type": "markdown",
      "source": [
        "# 05_linear_regression.py"
      ],
      "metadata": {
        "id": "hyGPMymMsn74"
      }
    },
    {
      "cell_type": "code",
      "source": [
        "from torch import nn\n",
        "import torch\n",
        "from torch import tensor\n",
        "\n",
        "x_data = tensor([[1.0], [2.0], [3.0]])\n",
        "y_data = tensor([[2.0], [4.0], [6.0]])\n",
        "\n",
        "class Model(nn.Module):\n",
        "  def __init__(self):\n",
        "    super(Model, self).__init__()\n",
        "    self.linear = torch.nn.Linear(1, 1) # one in and one out , 인풋 1개에 대한 아웃풋 1개\n",
        "\n",
        "  def forward(self, x):\n",
        "    y_pred = self.linear(x)\n",
        "    return y_pred\n",
        "\n",
        "model = Model()\n",
        "# 가중치 초기화\n",
        "nn.init.constant_(model.linear.weight, 1.0) # 참고 코드엔 없는 내역\n",
        "nn.init.constant_(model.linear.bias, 0.0) # 참고 코드엔 없는 내역\n",
        "\n",
        "# loss function & optimizer\n",
        "criterion = torch.nn.MSELoss(reduction = 'sum') # data point 별로 발생한 loss를 합칠 때 sum, 평균을 낼때는 mean\n",
        "optimizer = torch.optim.SGD(model.parameters(), lr = 0.01)\n",
        "\n",
        "# training loop\n",
        "hour_var = tensor([[4.0]])\n",
        "print('prediction (before training)', 4,  model(hour_var).data[0][0].item())\n",
        "for epoch in range(500):\n",
        "    # 1) forward pass : compute predicted y by passing x to the model\n",
        "    y_pred = model(x_data)\n",
        "\n",
        "    # 2) compute and print loss\n",
        "    loss = criterion(y_pred, y_data)\n",
        "    print(f'Epoch: {epoch} | Loss: {loss.item()}')\n",
        "\n",
        "    optimizer.zero_grad() # w.grad.data.zero_() 와 같은 기능\n",
        "    loss.backward() # perform backward pass\n",
        "    optimizer.step() # update the weights\n",
        "\n",
        "# after training\n",
        "hour_var = tensor([[4.0]])\n",
        "y_pred = model(hour_var)\n",
        "print(f'prediction (after training)', 4, model(hour_var).data[0][0].item())"
      ],
      "metadata": {
        "id": "5w1GKtijsTJL",
        "colab": {
          "base_uri": "https://localhost:8080/"
        },
        "outputId": "2115aaa2-849f-4cc7-c88a-5ef09f1926f0"
      },
      "execution_count": 172,
      "outputs": [
        {
          "output_type": "stream",
          "name": "stdout",
          "text": [
            "prediction (before training) 4 4.0\n",
            "Epoch: 0 | Loss: 14.0\n",
            "Epoch: 1 | Loss: 6.26400089263916\n",
            "Epoch: 2 | Loss: 2.8196988105773926\n",
            "Epoch: 3 | Loss: 1.2859458923339844\n",
            "Epoch: 4 | Loss: 0.6027218103408813\n",
            "Epoch: 5 | Loss: 0.2981351912021637\n",
            "Epoch: 6 | Loss: 0.16211287677288055\n",
            "Epoch: 7 | Loss: 0.10113726556301117\n",
            "Epoch: 8 | Loss: 0.07357636839151382\n",
            "Epoch: 9 | Loss: 0.06089683622121811\n",
            "Epoch: 10 | Loss: 0.0548475943505764\n",
            "Epoch: 11 | Loss: 0.0517561249434948\n",
            "Epoch: 12 | Loss: 0.04998693987727165\n",
            "Epoch: 13 | Loss: 0.04881209135055542\n",
            "Epoch: 14 | Loss: 0.04790737107396126\n",
            "Epoch: 15 | Loss: 0.047128405421972275\n",
            "Epoch: 16 | Loss: 0.04641082137823105\n",
            "Epoch: 17 | Loss: 0.045725904405117035\n",
            "Epoch: 18 | Loss: 0.045060813426971436\n",
            "Epoch: 19 | Loss: 0.04440966248512268\n",
            "Epoch: 20 | Loss: 0.04376979172229767\n",
            "Epoch: 21 | Loss: 0.04314004257321358\n",
            "Epoch: 22 | Loss: 0.042519811540842056\n",
            "Epoch: 23 | Loss: 0.041908636689186096\n",
            "Epoch: 24 | Loss: 0.041306257247924805\n",
            "Epoch: 25 | Loss: 0.040712546557188034\n",
            "Epoch: 26 | Loss: 0.04012734815478325\n",
            "Epoch: 27 | Loss: 0.03955063596367836\n",
            "Epoch: 28 | Loss: 0.03898235410451889\n",
            "Epoch: 29 | Loss: 0.03842207416892052\n",
            "Epoch: 30 | Loss: 0.03786992281675339\n",
            "Epoch: 31 | Loss: 0.03732563927769661\n",
            "Epoch: 32 | Loss: 0.0367891788482666\n",
            "Epoch: 33 | Loss: 0.03626055270433426\n",
            "Epoch: 34 | Loss: 0.03573933616280556\n",
            "Epoch: 35 | Loss: 0.03522577881813049\n",
            "Epoch: 36 | Loss: 0.03471948951482773\n",
            "Epoch: 37 | Loss: 0.03422058746218681\n",
            "Epoch: 38 | Loss: 0.03372875601053238\n",
            "Epoch: 39 | Loss: 0.03324401378631592\n",
            "Epoch: 40 | Loss: 0.03276621177792549\n",
            "Epoch: 41 | Loss: 0.03229529410600662\n",
            "Epoch: 42 | Loss: 0.031831126660108566\n",
            "Epoch: 43 | Loss: 0.031373728066682816\n",
            "Epoch: 44 | Loss: 0.03092273883521557\n",
            "Epoch: 45 | Loss: 0.030478373169898987\n",
            "Epoch: 46 | Loss: 0.030040375888347626\n",
            "Epoch: 47 | Loss: 0.029608706012368202\n",
            "Epoch: 48 | Loss: 0.02918318472802639\n",
            "Epoch: 49 | Loss: 0.028763674199581146\n",
            "Epoch: 50 | Loss: 0.02835029363632202\n",
            "Epoch: 51 | Loss: 0.027942977845668793\n",
            "Epoch: 52 | Loss: 0.027541309595108032\n",
            "Epoch: 53 | Loss: 0.027145519852638245\n",
            "Epoch: 54 | Loss: 0.026755332946777344\n",
            "Epoch: 55 | Loss: 0.026370886713266373\n",
            "Epoch: 56 | Loss: 0.025991875678300858\n",
            "Epoch: 57 | Loss: 0.02561831846833229\n",
            "Epoch: 58 | Loss: 0.02525017410516739\n",
            "Epoch: 59 | Loss: 0.024887269362807274\n",
            "Epoch: 60 | Loss: 0.0245295949280262\n",
            "Epoch: 61 | Loss: 0.02417709492146969\n",
            "Epoch: 62 | Loss: 0.02382965385913849\n",
            "Epoch: 63 | Loss: 0.023487165570259094\n",
            "Epoch: 64 | Loss: 0.02314964309334755\n",
            "Epoch: 65 | Loss: 0.022816915065050125\n",
            "Epoch: 66 | Loss: 0.022489037364721298\n",
            "Epoch: 67 | Loss: 0.022165769711136818\n",
            "Epoch: 68 | Loss: 0.021847238764166832\n",
            "Epoch: 69 | Loss: 0.02153323031961918\n",
            "Epoch: 70 | Loss: 0.02122379094362259\n",
            "Epoch: 71 | Loss: 0.02091871201992035\n",
            "Epoch: 72 | Loss: 0.02061808481812477\n",
            "Epoch: 73 | Loss: 0.02032187208533287\n",
            "Epoch: 74 | Loss: 0.0200297050178051\n",
            "Epoch: 75 | Loss: 0.019741859287023544\n",
            "Epoch: 76 | Loss: 0.019458161666989326\n",
            "Epoch: 77 | Loss: 0.019178476184606552\n",
            "Epoch: 78 | Loss: 0.018902942538261414\n",
            "Epoch: 79 | Loss: 0.018631260842084885\n",
            "Epoch: 80 | Loss: 0.01836351305246353\n",
            "Epoch: 81 | Loss: 0.018099619075655937\n",
            "Epoch: 82 | Loss: 0.017839454114437103\n",
            "Epoch: 83 | Loss: 0.017583005130290985\n",
            "Epoch: 84 | Loss: 0.017330352216959\n",
            "Epoch: 85 | Loss: 0.01708122156560421\n",
            "Epoch: 86 | Loss: 0.016835832968354225\n",
            "Epoch: 87 | Loss: 0.016593845561146736\n",
            "Epoch: 88 | Loss: 0.016355380415916443\n",
            "Epoch: 89 | Loss: 0.01612027734518051\n",
            "Epoch: 90 | Loss: 0.015888644382357597\n",
            "Epoch: 91 | Loss: 0.01566026546061039\n",
            "Epoch: 92 | Loss: 0.01543521136045456\n",
            "Epoch: 93 | Loss: 0.015213403850793839\n",
            "Epoch: 94 | Loss: 0.014994727447628975\n",
            "Epoch: 95 | Loss: 0.014779238030314445\n",
            "Epoch: 96 | Loss: 0.014566865749657154\n",
            "Epoch: 97 | Loss: 0.014357535168528557\n",
            "Epoch: 98 | Loss: 0.0141511932015419\n",
            "Epoch: 99 | Loss: 0.0139478063210845\n",
            "Epoch: 100 | Loss: 0.013747386634349823\n",
            "Epoch: 101 | Loss: 0.01354972179979086\n",
            "Epoch: 102 | Loss: 0.013355041854083538\n",
            "Epoch: 103 | Loss: 0.013163124211132526\n",
            "Epoch: 104 | Loss: 0.012973926961421967\n",
            "Epoch: 105 | Loss: 0.012787474319338799\n",
            "Epoch: 106 | Loss: 0.012603694573044777\n",
            "Epoch: 107 | Loss: 0.012422554194927216\n",
            "Epoch: 108 | Loss: 0.01224406436085701\n",
            "Epoch: 109 | Loss: 0.01206810399889946\n",
            "Epoch: 110 | Loss: 0.01189466193318367\n",
            "Epoch: 111 | Loss: 0.011723688803613186\n",
            "Epoch: 112 | Loss: 0.011555216275155544\n",
            "Epoch: 113 | Loss: 0.011389117687940598\n",
            "Epoch: 114 | Loss: 0.011225422844290733\n",
            "Epoch: 115 | Loss: 0.01106411125510931\n",
            "Epoch: 116 | Loss: 0.010905126109719276\n",
            "Epoch: 117 | Loss: 0.010748437605798244\n",
            "Epoch: 118 | Loss: 0.010593889281153679\n",
            "Epoch: 119 | Loss: 0.010441676713526249\n",
            "Epoch: 120 | Loss: 0.010291622020304203\n",
            "Epoch: 121 | Loss: 0.010143741965293884\n",
            "Epoch: 122 | Loss: 0.00999793317168951\n",
            "Epoch: 123 | Loss: 0.009854264557361603\n",
            "Epoch: 124 | Loss: 0.00971265509724617\n",
            "Epoch: 125 | Loss: 0.009573010727763176\n",
            "Epoch: 126 | Loss: 0.009435471147298813\n",
            "Epoch: 127 | Loss: 0.009299837052822113\n",
            "Epoch: 128 | Loss: 0.009166201576590538\n",
            "Epoch: 129 | Loss: 0.009034479968249798\n",
            "Epoch: 130 | Loss: 0.008904600515961647\n",
            "Epoch: 131 | Loss: 0.008776657283306122\n",
            "Epoch: 132 | Loss: 0.008650527335703373\n",
            "Epoch: 133 | Loss: 0.00852622278034687\n",
            "Epoch: 134 | Loss: 0.008403655141592026\n",
            "Epoch: 135 | Loss: 0.008282884955406189\n",
            "Epoch: 136 | Loss: 0.008163855411112309\n",
            "Epoch: 137 | Loss: 0.008046495728194714\n",
            "Epoch: 138 | Loss: 0.007930855266749859\n",
            "Epoch: 139 | Loss: 0.007816880010068417\n",
            "Epoch: 140 | Loss: 0.0077045815996825695\n",
            "Epoch: 141 | Loss: 0.007593810558319092\n",
            "Epoch: 142 | Loss: 0.007484696805477142\n",
            "Epoch: 143 | Loss: 0.0073771364986896515\n",
            "Epoch: 144 | Loss: 0.007271073758602142\n",
            "Epoch: 145 | Loss: 0.007166605442762375\n",
            "Epoch: 146 | Loss: 0.007063611876219511\n",
            "Epoch: 147 | Loss: 0.006962105631828308\n",
            "Epoch: 148 | Loss: 0.0068620480597019196\n",
            "Epoch: 149 | Loss: 0.00676342099905014\n",
            "Epoch: 150 | Loss: 0.006666220724582672\n",
            "Epoch: 151 | Loss: 0.006570430938154459\n",
            "Epoch: 152 | Loss: 0.0064759934321045876\n",
            "Epoch: 153 | Loss: 0.0063829366117715836\n",
            "Epoch: 154 | Loss: 0.006291213445365429\n",
            "Epoch: 155 | Loss: 0.006200757808983326\n",
            "Epoch: 156 | Loss: 0.006111684255301952\n",
            "Epoch: 157 | Loss: 0.006023851223289967\n",
            "Epoch: 158 | Loss: 0.005937259178608656\n",
            "Epoch: 159 | Loss: 0.005851933732628822\n",
            "Epoch: 160 | Loss: 0.005767835304141045\n",
            "Epoch: 161 | Loss: 0.00568491593003273\n",
            "Epoch: 162 | Loss: 0.005603249650448561\n",
            "Epoch: 163 | Loss: 0.005522688385099173\n",
            "Epoch: 164 | Loss: 0.005443349480628967\n",
            "Epoch: 165 | Loss: 0.005365116987377405\n",
            "Epoch: 166 | Loss: 0.005287996027618647\n",
            "Epoch: 167 | Loss: 0.005212004296481609\n",
            "Epoch: 168 | Loss: 0.005137084051966667\n",
            "Epoch: 169 | Loss: 0.005063264165073633\n",
            "Epoch: 170 | Loss: 0.004990500397980213\n",
            "Epoch: 171 | Loss: 0.0049188099801540375\n",
            "Epoch: 172 | Loss: 0.004848099313676357\n",
            "Epoch: 173 | Loss: 0.004778431262820959\n",
            "Epoch: 174 | Loss: 0.004709726199507713\n",
            "Epoch: 175 | Loss: 0.004642065614461899\n",
            "Epoch: 176 | Loss: 0.004575323313474655\n",
            "Epoch: 177 | Loss: 0.004509575664997101\n",
            "Epoch: 178 | Loss: 0.004444772377610207\n",
            "Epoch: 179 | Loss: 0.004380896687507629\n",
            "Epoch: 180 | Loss: 0.004317945800721645\n",
            "Epoch: 181 | Loss: 0.004255901090800762\n",
            "Epoch: 182 | Loss: 0.004194723907858133\n",
            "Epoch: 183 | Loss: 0.0041344347409904\n",
            "Epoch: 184 | Loss: 0.004075000993907452\n",
            "Epoch: 185 | Loss: 0.00401643943041563\n",
            "Epoch: 186 | Loss: 0.003958715591579676\n",
            "Epoch: 187 | Loss: 0.003901834599673748\n",
            "Epoch: 188 | Loss: 0.003845750819891691\n",
            "Epoch: 189 | Loss: 0.003790477756410837\n",
            "Epoch: 190 | Loss: 0.0037360202986747026\n",
            "Epoch: 191 | Loss: 0.003682295558974147\n",
            "Epoch: 192 | Loss: 0.003629387589171529\n",
            "Epoch: 193 | Loss: 0.0035772589035332203\n",
            "Epoch: 194 | Loss: 0.0035258315037935972\n",
            "Epoch: 195 | Loss: 0.003475133329629898\n",
            "Epoch: 196 | Loss: 0.0034252172335982323\n",
            "Epoch: 197 | Loss: 0.003375979606062174\n",
            "Epoch: 198 | Loss: 0.003327480982989073\n",
            "Epoch: 199 | Loss: 0.0032796396408230066\n",
            "Epoch: 200 | Loss: 0.0032325314823538065\n",
            "Epoch: 201 | Loss: 0.0031860624440014362\n",
            "Epoch: 202 | Loss: 0.003140262793749571\n",
            "Epoch: 203 | Loss: 0.0030951406806707382\n",
            "Epoch: 204 | Loss: 0.0030506306793540716\n",
            "Epoch: 205 | Loss: 0.0030068163760006428\n",
            "Epoch: 206 | Loss: 0.0029636190738528967\n",
            "Epoch: 207 | Loss: 0.002921030391007662\n",
            "Epoch: 208 | Loss: 0.0028790272772312164\n",
            "Epoch: 209 | Loss: 0.002837659791111946\n",
            "Epoch: 210 | Loss: 0.0027968839276582003\n",
            "Epoch: 211 | Loss: 0.002756674773991108\n",
            "Epoch: 212 | Loss: 0.002717060036957264\n",
            "Epoch: 213 | Loss: 0.0026780173648148775\n",
            "Epoch: 214 | Loss: 0.0026395295280963182\n",
            "Epoch: 215 | Loss: 0.0026016077026724815\n",
            "Epoch: 216 | Loss: 0.0025641960091888905\n",
            "Epoch: 217 | Loss: 0.0025273473002016544\n",
            "Epoch: 218 | Loss: 0.0024910150095820427\n",
            "Epoch: 219 | Loss: 0.002455236855894327\n",
            "Epoch: 220 | Loss: 0.002419928787276149\n",
            "Epoch: 221 | Loss: 0.002385152503848076\n",
            "Epoch: 222 | Loss: 0.0023508728481829166\n",
            "Epoch: 223 | Loss: 0.002317101461812854\n",
            "Epoch: 224 | Loss: 0.002283802255988121\n",
            "Epoch: 225 | Loss: 0.0022509871050715446\n",
            "Epoch: 226 | Loss: 0.002218617359176278\n",
            "Epoch: 227 | Loss: 0.002186740282922983\n",
            "Epoch: 228 | Loss: 0.0021553048864006996\n",
            "Epoch: 229 | Loss: 0.0021243509836494923\n",
            "Epoch: 230 | Loss: 0.0020937970839440823\n",
            "Epoch: 231 | Loss: 0.0020637046545743942\n",
            "Epoch: 232 | Loss: 0.0020340660121291876\n",
            "Epoch: 233 | Loss: 0.002004803391173482\n",
            "Epoch: 234 | Loss: 0.001976011088117957\n",
            "Epoch: 235 | Loss: 0.0019476271700114012\n",
            "Epoch: 236 | Loss: 0.001919639646075666\n",
            "Epoch: 237 | Loss: 0.0018920244183391333\n",
            "Epoch: 238 | Loss: 0.0018648473778739572\n",
            "Epoch: 239 | Loss: 0.0018380341352894902\n",
            "Epoch: 240 | Loss: 0.0018116229912266135\n",
            "Epoch: 241 | Loss: 0.0017855847254395485\n",
            "Epoch: 242 | Loss: 0.0017599179409444332\n",
            "Epoch: 243 | Loss: 0.001734637888148427\n",
            "Epoch: 244 | Loss: 0.0017097042873501778\n",
            "Epoch: 245 | Loss: 0.0016851229593157768\n",
            "Epoch: 246 | Loss: 0.0016609163722023368\n",
            "Epoch: 247 | Loss: 0.001637061359360814\n",
            "Epoch: 248 | Loss: 0.0016135189216583967\n",
            "Epoch: 249 | Loss: 0.0015903394669294357\n",
            "Epoch: 250 | Loss: 0.001567465951666236\n",
            "Epoch: 251 | Loss: 0.0015449431957677007\n",
            "Epoch: 252 | Loss: 0.001522735459730029\n",
            "Epoch: 253 | Loss: 0.0015008596237748861\n",
            "Epoch: 254 | Loss: 0.001479291939176619\n",
            "Epoch: 255 | Loss: 0.0014580246061086655\n",
            "Epoch: 256 | Loss: 0.0014370634453371167\n",
            "Epoch: 257 | Loss: 0.0014164182357490063\n",
            "Epoch: 258 | Loss: 0.0013960676733404398\n",
            "Epoch: 259 | Loss: 0.0013760090805590153\n",
            "Epoch: 260 | Loss: 0.0013562219683080912\n",
            "Epoch: 261 | Loss: 0.0013367226347327232\n",
            "Epoch: 262 | Loss: 0.0013175250496715307\n",
            "Epoch: 263 | Loss: 0.0012985876528546214\n",
            "Epoch: 264 | Loss: 0.0012799435062333941\n",
            "Epoch: 265 | Loss: 0.0012615167070180178\n",
            "Epoch: 266 | Loss: 0.0012433999218046665\n",
            "Epoch: 267 | Loss: 0.001225538202561438\n",
            "Epoch: 268 | Loss: 0.0012079270090907812\n",
            "Epoch: 269 | Loss: 0.001190565642900765\n",
            "Epoch: 270 | Loss: 0.0011734594590961933\n",
            "Epoch: 271 | Loss: 0.0011565957684069872\n",
            "Epoch: 272 | Loss: 0.0011399737559258938\n",
            "Epoch: 273 | Loss: 0.00112357537727803\n",
            "Epoch: 274 | Loss: 0.0011074390495195985\n",
            "Epoch: 275 | Loss: 0.001091515296138823\n",
            "Epoch: 276 | Loss: 0.0010758424177765846\n",
            "Epoch: 277 | Loss: 0.001060377573594451\n",
            "Epoch: 278 | Loss: 0.0010451392736285925\n",
            "Epoch: 279 | Loss: 0.0010301233269274235\n",
            "Epoch: 280 | Loss: 0.0010153104085475206\n",
            "Epoch: 281 | Loss: 0.0010007115779444575\n",
            "Epoch: 282 | Loss: 0.0009863314917311072\n",
            "Epoch: 283 | Loss: 0.0009721643873490393\n",
            "Epoch: 284 | Loss: 0.0009581951308064163\n",
            "Epoch: 285 | Loss: 0.0009444163297303021\n",
            "Epoch: 286 | Loss: 0.0009308597072958946\n",
            "Epoch: 287 | Loss: 0.000917467987164855\n",
            "Epoch: 288 | Loss: 0.0009042765595950186\n",
            "Epoch: 289 | Loss: 0.0008912933408282697\n",
            "Epoch: 290 | Loss: 0.0008784885285422206\n",
            "Epoch: 291 | Loss: 0.000865844776853919\n",
            "Epoch: 292 | Loss: 0.0008534149383194745\n",
            "Epoch: 293 | Loss: 0.0008411458693444729\n",
            "Epoch: 294 | Loss: 0.0008290526457130909\n",
            "Epoch: 295 | Loss: 0.0008171466761268675\n",
            "Epoch: 296 | Loss: 0.0008054028148762882\n",
            "Epoch: 297 | Loss: 0.00079383235424757\n",
            "Epoch: 298 | Loss: 0.0007824025815352798\n",
            "Epoch: 299 | Loss: 0.0007711622165516019\n",
            "Epoch: 300 | Loss: 0.0007600897806696594\n",
            "Epoch: 301 | Loss: 0.000749170605558902\n",
            "Epoch: 302 | Loss: 0.0007383983465842903\n",
            "Epoch: 303 | Loss: 0.0007277841214090586\n",
            "Epoch: 304 | Loss: 0.0007173214107751846\n",
            "Epoch: 305 | Loss: 0.0007070272695273161\n",
            "Epoch: 306 | Loss: 0.000696861301548779\n",
            "Epoch: 307 | Loss: 0.0006868374766781926\n",
            "Epoch: 308 | Loss: 0.0006769770407117903\n",
            "Epoch: 309 | Loss: 0.0006672449526377022\n",
            "Epoch: 310 | Loss: 0.0006576519808731973\n",
            "Epoch: 311 | Loss: 0.0006481935270130634\n",
            "Epoch: 312 | Loss: 0.0006388770998455584\n",
            "Epoch: 313 | Loss: 0.0006297083455137908\n",
            "Epoch: 314 | Loss: 0.0006206493708305061\n",
            "Epoch: 315 | Loss: 0.0006117264274507761\n",
            "Epoch: 316 | Loss: 0.0006029337528161705\n",
            "Epoch: 317 | Loss: 0.0005942700081504881\n",
            "Epoch: 318 | Loss: 0.0005857449141331017\n",
            "Epoch: 319 | Loss: 0.0005773205193690956\n",
            "Epoch: 320 | Loss: 0.0005690320394933224\n",
            "Epoch: 321 | Loss: 0.0005608531064353883\n",
            "Epoch: 322 | Loss: 0.0005527825560420752\n",
            "Epoch: 323 | Loss: 0.000544843846000731\n",
            "Epoch: 324 | Loss: 0.0005370001890696585\n",
            "Epoch: 325 | Loss: 0.0005292856367304921\n",
            "Epoch: 326 | Loss: 0.0005216854042373598\n",
            "Epoch: 327 | Loss: 0.000514182320330292\n",
            "Epoch: 328 | Loss: 0.0005067989695817232\n",
            "Epoch: 329 | Loss: 0.000499506713822484\n",
            "Epoch: 330 | Loss: 0.0004923305823467672\n",
            "Epoch: 331 | Loss: 0.0004852588172070682\n",
            "Epoch: 332 | Loss: 0.00047829674440436065\n",
            "Epoch: 333 | Loss: 0.00047141523100435734\n",
            "Epoch: 334 | Loss: 0.0004646388115361333\n",
            "Epoch: 335 | Loss: 0.00045795616460964084\n",
            "Epoch: 336 | Loss: 0.00045137631241232157\n",
            "Epoch: 337 | Loss: 0.0004448906402103603\n",
            "Epoch: 338 | Loss: 0.0004384909407235682\n",
            "Epoch: 339 | Loss: 0.00043220038060098886\n",
            "Epoch: 340 | Loss: 0.0004259913112036884\n",
            "Epoch: 341 | Loss: 0.00041986769065260887\n",
            "Epoch: 342 | Loss: 0.00041382620111107826\n",
            "Epoch: 343 | Loss: 0.0004078825586475432\n",
            "Epoch: 344 | Loss: 0.0004020249762106687\n",
            "Epoch: 345 | Loss: 0.00039624457713216543\n",
            "Epoch: 346 | Loss: 0.0003905461635440588\n",
            "Epoch: 347 | Loss: 0.0003849358472507447\n",
            "Epoch: 348 | Loss: 0.0003794035001192242\n",
            "Epoch: 349 | Loss: 0.0003739561652764678\n",
            "Epoch: 350 | Loss: 0.00036857501254417\n",
            "Epoch: 351 | Loss: 0.00036328050191514194\n",
            "Epoch: 352 | Loss: 0.00035805729567073286\n",
            "Epoch: 353 | Loss: 0.00035291342646814883\n",
            "Epoch: 354 | Loss: 0.0003478469152469188\n",
            "Epoch: 355 | Loss: 0.00034284821595065296\n",
            "Epoch: 356 | Loss: 0.00033791668829508126\n",
            "Epoch: 357 | Loss: 0.0003330612671561539\n",
            "Epoch: 358 | Loss: 0.00032826728420332074\n",
            "Epoch: 359 | Loss: 0.0003235509211663157\n",
            "Epoch: 360 | Loss: 0.0003189039998687804\n",
            "Epoch: 361 | Loss: 0.0003143175272271037\n",
            "Epoch: 362 | Loss: 0.0003098051529377699\n",
            "Epoch: 363 | Loss: 0.00030534679535776377\n",
            "Epoch: 364 | Loss: 0.0003009681240655482\n",
            "Epoch: 365 | Loss: 0.0002966421307064593\n",
            "Epoch: 366 | Loss: 0.00029236829141154885\n",
            "Epoch: 367 | Loss: 0.00028817186830565333\n",
            "Epoch: 368 | Loss: 0.00028402736643329263\n",
            "Epoch: 369 | Loss: 0.00027994788251817226\n",
            "Epoch: 370 | Loss: 0.0002759288181550801\n",
            "Epoch: 371 | Loss: 0.00027195896836929023\n",
            "Epoch: 372 | Loss: 0.0002680454635992646\n",
            "Epoch: 373 | Loss: 0.00026419060304760933\n",
            "Epoch: 374 | Loss: 0.0002603954926598817\n",
            "Epoch: 375 | Loss: 0.0002566595794633031\n",
            "Epoch: 376 | Loss: 0.00025297095999121666\n",
            "Epoch: 377 | Loss: 0.00024933292297646403\n",
            "Epoch: 378 | Loss: 0.00024575222050771117\n",
            "Epoch: 379 | Loss: 0.00024222186766564846\n",
            "Epoch: 380 | Loss: 0.00023873860482126474\n",
            "Epoch: 381 | Loss: 0.00023530646285507828\n",
            "Epoch: 382 | Loss: 0.00023192126536741853\n",
            "Epoch: 383 | Loss: 0.00022858523880131543\n",
            "Epoch: 384 | Loss: 0.00022530391288455576\n",
            "Epoch: 385 | Loss: 0.00022206884750630707\n",
            "Epoch: 386 | Loss: 0.00021888039191253483\n",
            "Epoch: 387 | Loss: 0.00021573547564912587\n",
            "Epoch: 388 | Loss: 0.00021262775408104062\n",
            "Epoch: 389 | Loss: 0.0002095728850690648\n",
            "Epoch: 390 | Loss: 0.0002065626613330096\n",
            "Epoch: 391 | Loss: 0.0002035941433859989\n",
            "Epoch: 392 | Loss: 0.00020066769502591342\n",
            "Epoch: 393 | Loss: 0.00019778532441705465\n",
            "Epoch: 394 | Loss: 0.00019494249136187136\n",
            "Epoch: 395 | Loss: 0.00019214279018342495\n",
            "Epoch: 396 | Loss: 0.00018938173889182508\n",
            "Epoch: 397 | Loss: 0.0001866605452960357\n",
            "Epoch: 398 | Loss: 0.00018398111569695175\n",
            "Epoch: 399 | Loss: 0.00018133202684111893\n",
            "Epoch: 400 | Loss: 0.00017872467287816107\n",
            "Epoch: 401 | Loss: 0.00017615704564377666\n",
            "Epoch: 402 | Loss: 0.0001736279227770865\n",
            "Epoch: 403 | Loss: 0.0001711284858174622\n",
            "Epoch: 404 | Loss: 0.00016867060912773013\n",
            "Epoch: 405 | Loss: 0.0001662417344050482\n",
            "Epoch: 406 | Loss: 0.00016385427443310618\n",
            "Epoch: 407 | Loss: 0.00016150331066455692\n",
            "Epoch: 408 | Loss: 0.00015918254212010652\n",
            "Epoch: 409 | Loss: 0.0001568989537190646\n",
            "Epoch: 410 | Loss: 0.00015463694580830634\n",
            "Epoch: 411 | Loss: 0.00015241789515130222\n",
            "Epoch: 412 | Loss: 0.00015022701700218022\n",
            "Epoch: 413 | Loss: 0.00014806754188612103\n",
            "Epoch: 414 | Loss: 0.00014594057574868202\n",
            "Epoch: 415 | Loss: 0.00014384224778041244\n",
            "Epoch: 416 | Loss: 0.00014177573029883206\n",
            "Epoch: 417 | Loss: 0.00013973447494208813\n",
            "Epoch: 418 | Loss: 0.0001377277949359268\n",
            "Epoch: 419 | Loss: 0.0001357525761704892\n",
            "Epoch: 420 | Loss: 0.0001338043948635459\n",
            "Epoch: 421 | Loss: 0.0001318776630796492\n",
            "Epoch: 422 | Loss: 0.0001299834402743727\n",
            "Epoch: 423 | Loss: 0.0001281121512874961\n",
            "Epoch: 424 | Loss: 0.00012627532123588026\n",
            "Epoch: 425 | Loss: 0.0001244608429260552\n",
            "Epoch: 426 | Loss: 0.00012266852718312293\n",
            "Epoch: 427 | Loss: 0.00012090325617464259\n",
            "Epoch: 428 | Loss: 0.00011917172378161922\n",
            "Epoch: 429 | Loss: 0.00011745961819542572\n",
            "Epoch: 430 | Loss: 0.00011576741235330701\n",
            "Epoch: 431 | Loss: 0.0001140974200097844\n",
            "Epoch: 432 | Loss: 0.0001124666741816327\n",
            "Epoch: 433 | Loss: 0.00011084462312282994\n",
            "Epoch: 434 | Loss: 0.00010925441165454686\n",
            "Epoch: 435 | Loss: 0.0001076841217582114\n",
            "Epoch: 436 | Loss: 0.00010613360063871369\n",
            "Epoch: 437 | Loss: 0.00010461394413141534\n",
            "Epoch: 438 | Loss: 0.00010310407378710806\n",
            "Epoch: 439 | Loss: 0.00010163035767618567\n",
            "Epoch: 440 | Loss: 0.00010016960004577413\n",
            "Epoch: 441 | Loss: 9.872634109342471e-05\n",
            "Epoch: 442 | Loss: 9.730616875458509e-05\n",
            "Epoch: 443 | Loss: 9.590995614416897e-05\n",
            "Epoch: 444 | Loss: 9.453231905354187e-05\n",
            "Epoch: 445 | Loss: 9.317136573372409e-05\n",
            "Epoch: 446 | Loss: 9.18353398446925e-05\n",
            "Epoch: 447 | Loss: 9.0512286988087e-05\n",
            "Epoch: 448 | Loss: 8.921419794205576e-05\n",
            "Epoch: 449 | Loss: 8.793039160082117e-05\n",
            "Epoch: 450 | Loss: 8.66672708070837e-05\n",
            "Epoch: 451 | Loss: 8.541919669369236e-05\n",
            "Epoch: 452 | Loss: 8.419403457082808e-05\n",
            "Epoch: 453 | Loss: 8.298196189571172e-05\n",
            "Epoch: 454 | Loss: 8.178708958439529e-05\n",
            "Epoch: 455 | Loss: 8.061654807534069e-05\n",
            "Epoch: 456 | Loss: 7.94580701040104e-05\n",
            "Epoch: 457 | Loss: 7.831672701286152e-05\n",
            "Epoch: 458 | Loss: 7.718568667769432e-05\n",
            "Epoch: 459 | Loss: 7.607959560118616e-05\n",
            "Epoch: 460 | Loss: 7.498854392906651e-05\n",
            "Epoch: 461 | Loss: 7.390487735392526e-05\n",
            "Epoch: 462 | Loss: 7.285042374860495e-05\n",
            "Epoch: 463 | Loss: 7.179765088949353e-05\n",
            "Epoch: 464 | Loss: 7.076670590322465e-05\n",
            "Epoch: 465 | Loss: 6.975099677219987e-05\n",
            "Epoch: 466 | Loss: 6.874600512674078e-05\n",
            "Epoch: 467 | Loss: 6.775883957743645e-05\n",
            "Epoch: 468 | Loss: 6.678926001768559e-05\n",
            "Epoch: 469 | Loss: 6.582619971595705e-05\n",
            "Epoch: 470 | Loss: 6.488230428658426e-05\n",
            "Epoch: 471 | Loss: 6.394430238287896e-05\n",
            "Epoch: 472 | Loss: 6.303297413978726e-05\n",
            "Epoch: 473 | Loss: 6.212544394657016e-05\n",
            "Epoch: 474 | Loss: 6.122903869254515e-05\n",
            "Epoch: 475 | Loss: 6.0351343563525006e-05\n",
            "Epoch: 476 | Loss: 5.9483121731318533e-05\n",
            "Epoch: 477 | Loss: 5.862876059836708e-05\n",
            "Epoch: 478 | Loss: 5.778677586931735e-05\n",
            "Epoch: 479 | Loss: 5.6954384490381926e-05\n",
            "Epoch: 480 | Loss: 5.6137610954465345e-05\n",
            "Epoch: 481 | Loss: 5.533279909286648e-05\n",
            "Epoch: 482 | Loss: 5.45368020539172e-05\n",
            "Epoch: 483 | Loss: 5.375083128456026e-05\n",
            "Epoch: 484 | Loss: 5.2979885367676616e-05\n",
            "Epoch: 485 | Loss: 5.2219536883058026e-05\n",
            "Epoch: 486 | Loss: 5.14655293955002e-05\n",
            "Epoch: 487 | Loss: 5.072942076367326e-05\n",
            "Epoch: 488 | Loss: 4.999944212613627e-05\n",
            "Epoch: 489 | Loss: 4.927964982925914e-05\n",
            "Epoch: 490 | Loss: 4.857196472585201e-05\n",
            "Epoch: 491 | Loss: 4.7872221330180764e-05\n",
            "Epoch: 492 | Loss: 4.718633499578573e-05\n",
            "Epoch: 493 | Loss: 4.6507375373039395e-05\n",
            "Epoch: 494 | Loss: 4.583807094604708e-05\n",
            "Epoch: 495 | Loss: 4.518337664194405e-05\n",
            "Epoch: 496 | Loss: 4.4531851017381996e-05\n",
            "Epoch: 497 | Loss: 4.389121022541076e-05\n",
            "Epoch: 498 | Loss: 4.3259424273855984e-05\n",
            "Epoch: 499 | Loss: 4.264171002432704e-05\n",
            "prediction (after training) 4 7.992494106292725\n"
          ]
        }
      ]
    },
    {
      "cell_type": "markdown",
      "source": [
        "## with jax\n",
        "- jax 는 pytorch와 다르게 함수형 프로그램을 강조하고 있음 (class 가 필요없음)\n",
        "- 모델과 관련된 파라미터와 계산을 함수로 구현하여 사용하는 것이 일반적임\n",
        "\n",
        "\n",
        "### 변경사항\n",
        "  - loss 를 optax 내장함수로 바꾸어줌\n",
        "  - opimizer 가 2줄짜리로 변경 : opt_state, params 업데이트 필요\n",
        "\n",
        "### optax 를 사용한 최적화 코드\n",
        "\n",
        "[참고자료](https://optax.readthedocs.io/en/latest/api/optimizers.html#optax.sgd)\n",
        "\n",
        "```\n",
        "# optax.sgd 를 활용해 optimizer 를 초기화 할때, params 가 jax 배열이 아니기때문에 오류가 발생\n",
        "optimizer = optax.sgd(learning_rate = 0.01)\n",
        "\n",
        "# 아래와 같이 한번 init 해주어야함\n",
        "opt_state = optimizer.init(params)\n",
        "\n",
        "\n",
        "# optimizer 를 활용해 업데이트를 하면 opt_state 가 업데이트 되며,\n",
        "# 이를 다시 apply_updates 로 처리해서 실제 업데이트도 진행\n",
        "updates, opt_state = optimizer.update(grads, opt_state, params)\n",
        "params = optax.apply_updates(params, updates)\n",
        "\n",
        "```\n",
        "\n",
        "\n",
        "Q. jit 을 gradient 계산하는 부분에 적용하기 위해서는 어떻게 해야 하는가?\n",
        "\n",
        "\n",
        "chat gpt 설명\n",
        "```\n",
        "@jit\n",
        "def value_and_grad(params, x, y):\n",
        "    return jax.value_and_grad(loss)(params, x, y)\n",
        "```\n"
      ],
      "metadata": {
        "id": "5t0YGypVuwGW"
      }
    },
    {
      "cell_type": "code",
      "source": [
        "import jax.numpy as jnp\n",
        "from jax import grad, jit\n",
        "import optax\n",
        "\n",
        "x_data = jnp.array([[1.0], [2.0], [3.0]])\n",
        "y_data = jnp.array([[2.0], [4.0], [6.0]])\n",
        "\n",
        "def model(params, x):\n",
        "    return jnp.dot(x, params['weight']) + params['bias']\n",
        "\n",
        "def loss(params, x, y):\n",
        "    y_pred = model(params, x)\n",
        "    return jnp.sum((y_pred - y) ** 2)\n",
        "\n",
        "init_params = {'weight' : jnp.array([[1.0]]), 'bias': jnp.array([0.0])}\n",
        "optimizer = optax.sgd(learning_rate = 0.01)\n",
        "opt_state = optimizer.init(init_params)\n",
        "\n",
        "@jit\n",
        "def update(params, opt_state, x, y):\n",
        "    grads = jax.grad(loss)(params, x, y)\n",
        "    updates, opt_state = optimizer.update(grads, opt_state)\n",
        "    new_params = optax.apply_updates(params, updates) # optimizer.step()\n",
        "    return new_params, opt_state\n",
        "\n",
        "num_epochs= 500\n",
        "params = init_params\n",
        "\n",
        "#\n",
        "for epoch in range(num_epochs):\n",
        "    loss_val = loss(params, x_data, y_data)\n",
        "    params, opt_state = update(params, opt_state, x_data, y_data)\n",
        "    print(f'Epoch: {epoch} | Loss: {loss_val}')\n",
        "\n",
        "# After training\n",
        "hour_var = jnp.array([[4.0]])\n",
        "y_pred = model(params, hour_var)\n",
        "print(\"Prediction (after training):\", 4, y_pred[0][0])\n"
      ],
      "metadata": {
        "id": "dE2U8mH47OPO"
      },
      "execution_count": null,
      "outputs": []
    },
    {
      "cell_type": "markdown",
      "source": [
        "# 06_logistic_regression.py"
      ],
      "metadata": {
        "id": "JpunUVTmIUhD"
      }
    },
    {
      "cell_type": "code",
      "source": [
        "from torch import tensor\n",
        "from torch import nn\n",
        "from torch import sigmoid\n",
        "import torch.nn.functional as F\n",
        "import torch.optim as optim\n",
        "\n",
        "# dataset\n",
        "x_data = tensor([[1.0], [2.0], [3.0], [4.0]])\n",
        "y_data = tensor([[0.], [0.], [1.], [1.]])\n",
        "\n",
        "class Model(nn.Module):\n",
        "  def __init__(self):\n",
        "    \"\"\"\n",
        "    instantiate nn.Linear Module\n",
        "    \"\"\"\n",
        "    super(Model, self).__init__()\n",
        "    self.linear = nn.Linear(1, 1)\n",
        "\n",
        "  def forward(self, x):\n",
        "    y_pred = sigmoid(self.linear(x))\n",
        "    return y_pred\n",
        "\n",
        "# out model\n",
        "model = Model()\n",
        "\n",
        "# 가중치 초기화\n",
        "nn.init.constant_(model.linear.weight, 1.0)\n",
        "nn.init.constant_(model.linear.bias, 0.0)\n",
        "\n",
        "# loss function & optimizer contruction\n",
        "# call to model.parameters()\n",
        "criterion = nn.BCELoss(reduction = 'mean')\n",
        "optimizer = optim.SGD(model.parameters(), lr = 0.01)\n",
        "\n",
        "\n",
        "#Traning loop\n",
        "for epoch in range(1000):\n",
        "  # forward pass : compute predicted y by passing x to the model\n",
        "  y_pred = model(x_data)\n",
        "\n",
        "  # compute and print loss\n",
        "  loss = criterion(y_pred, y_data)\n",
        "\n",
        "  if epoch % 100 == 0:\n",
        "    print(f'Epoch {epoch + 1}/1000 | Loss: {loss.item():.4f}')\n",
        "\n",
        "  #zero gradient, perform a backward pass, update the weights\n",
        "  optimizer.zero_grad()\n",
        "  loss.backward()\n",
        "  optimizer.step()\n",
        "\n",
        "#After training\n",
        "print(f'\\nLet\\'s predict the hours need to score above 50%\\n{\"=\" * 50}')\n",
        "hour_var = model(tensor([[1.0]]))\n",
        "print(f'Prediction after 1 hour of training: {hour_var.item():.4f} | Above 50%: {hour_var.item() > 0.5}')\n",
        "hour_var = model(tensor([[7.0]]))\n",
        "print(f'Prediction after 7 hours of training: {hour_var.item():.4f} | Above 50%: { hour_var.item() > 0.5}')"
      ],
      "metadata": {
        "id": "kyqRLp6dxuwj",
        "colab": {
          "base_uri": "https://localhost:8080/"
        },
        "outputId": "0f98be4a-2c7b-4a0a-d02d-2da47486eb79"
      },
      "execution_count": 193,
      "outputs": [
        {
          "output_type": "stream",
          "name": "stdout",
          "text": [
            "Epoch 1/1000 | Loss: 0.8767\n",
            "Epoch 101/1000 | Loss: 0.5963\n",
            "Epoch 201/1000 | Loss: 0.5436\n",
            "Epoch 301/1000 | Loss: 0.5231\n",
            "Epoch 401/1000 | Loss: 0.5053\n",
            "Epoch 501/1000 | Loss: 0.4888\n",
            "Epoch 601/1000 | Loss: 0.4733\n",
            "Epoch 701/1000 | Loss: 0.4588\n",
            "Epoch 801/1000 | Loss: 0.4452\n",
            "Epoch 901/1000 | Loss: 0.4325\n",
            "\n",
            "Let's predict the hours need to score above 50%\n",
            "==================================================\n",
            "Prediction after 1 hour of training: 0.3376 | Above 50%: False\n",
            "Prediction after 7 hours of training: 0.9813 | Above 50%: True\n"
          ]
        }
      ]
    },
    {
      "cell_type": "markdown",
      "source": [
        "## with jax"
      ],
      "metadata": {
        "id": "vMa71RQ-JLhn"
      }
    },
    {
      "cell_type": "code",
      "source": [
        "\n",
        "import jax\n",
        "import jax.numpy as jnp\n",
        "from jax import jit\n",
        "import optax\n",
        "\n",
        "x_data = jnp.array([[1.0], [2.0], [3.0], [4.0]])\n",
        "y_data = jnp.array([[0.], [0.], [1.], [1.]])\n",
        "\n",
        "# 모델 정의하기\n",
        "def model(params, x):\n",
        "    return jax.nn.sigmoid(jnp.dot(x, params['weight']) + params['bias'])\n",
        "\n",
        "# 가중치 초기화\n",
        "# # 랜덤 초기화\n",
        "# key = jax.random.PRNGKey(0)\n",
        "# init_params = {\n",
        "#     'weight': jax.random.normal(key, (1, 1)),\n",
        "#     'bias': jax.random.normal(key, (1, ))\n",
        "# }\n",
        "\n",
        "# 지정값으로 초기화\n",
        "init_params = {'weight': jnp.array([[1.0]]), 'bias': jnp.array([0.0])}\n",
        "\n",
        "# 손실함수 및 최적화기 정의하기\n",
        "def binary_cross_entropy(y_hat, y):\n",
        "    bce = y * jnp.log(y_hat) + (1 - y) * jnp.log(1 - y_hat)\n",
        "    return jnp.mean(-bce)\n",
        "\n",
        "def loss(params, x, y):\n",
        "    y_pred = model(params, x)\n",
        "    #return optax.sigmoid_binary_cross_entropy(y_pred, y).mean()\n",
        "    return binary_cross_entropy(y_pred, y).mean()\n",
        "\n",
        "optimizer = optax.sgd(learning_rate = 0.01)\n",
        "opt_state = optimizer.init(params)\n",
        "\n",
        "# def update(params, opt_state, x, y):\n",
        "#     grads = jax.grad(loss)(params, x, y)\n",
        "#     updates, opt_state = optimizer.update(grad, opt_state)\n",
        "#     new_params =\n",
        "\n",
        "num_epochs = 1000\n",
        "params = init_params\n",
        "\n",
        "for epoch in range(num_epochs):\n",
        "    loss_val, grads = jax.value_and_grad(loss)(params, x_data, y_data)\n",
        "    updates, opt_state = optimizer.update(grads, opt_state, params) # optax.sgd~  의 update 는 x, y 데이터셋을 필요로 하지 않음\n",
        "    params = optax.apply_updates(params, updates)\n",
        "\n",
        "    if epoch % 100 == 0:\n",
        "        print(f'Epoch : {epoch + 1} / {num_epochs}| loss: {loss_val}')\n",
        "\n",
        "\n",
        "#After training\n",
        "print(f'\\nLet\\'s predict the hours need to score above 50%\\n{\"=\" * 50}')\n",
        "hour_var = model(params, jnp.array([[1.0]]))\n",
        "print(f'Prediction after 1 hour of training: {hour_var.item():.4f} | Above 50%: {hour_var.item() > 0.5}')\n",
        "hour_var = model(params, jnp.array([[7.0]]))\n",
        "print(f'Prediction after 7 hours of training: {hour_var.item():.4f} | Above 50%: { hour_var.item() > 0.5}')"
      ],
      "metadata": {
        "colab": {
          "base_uri": "https://localhost:8080/"
        },
        "id": "Zf_zIyPlDkLo",
        "outputId": "c86d4b47-731d-4b23-9bbb-ff86c953e2f0"
      },
      "execution_count": 194,
      "outputs": [
        {
          "output_type": "stream",
          "name": "stdout",
          "text": [
            "Epoch : 1 / 1000| loss: 0.8767316341400146\n",
            "Epoch : 101 / 1000| loss: 0.5962704420089722\n",
            "Epoch : 201 / 1000| loss: 0.5435957908630371\n",
            "Epoch : 301 / 1000| loss: 0.5230756998062134\n",
            "Epoch : 401 / 1000| loss: 0.5053068399429321\n",
            "Epoch : 501 / 1000| loss: 0.4887562096118927\n",
            "Epoch : 601 / 1000| loss: 0.4732797145843506\n",
            "Epoch : 701 / 1000| loss: 0.45879119634628296\n",
            "Epoch : 801 / 1000| loss: 0.4452126622200012\n",
            "Epoch : 901 / 1000| loss: 0.4324727952480316\n",
            "\n",
            "Let's predict the hours need to score above 50%\n",
            "==================================================\n",
            "Prediction after 1 hour of training: 0.3376 | Above 50%: False\n",
            "Prediction after 7 hours of training: 0.9813 | Above 50%: True\n"
          ]
        }
      ]
    },
    {
      "cell_type": "markdown",
      "source": [
        "# 07_diabets_logistic.py"
      ],
      "metadata": {
        "id": "N_gPZ2TogL4R"
      }
    },
    {
      "cell_type": "code",
      "source": [
        "from torch import nn, optim, from_numpy\n",
        "import numpy as np\n",
        "import pandas as pd\n",
        "\n",
        "xy = np.loadtxt('/content/PyTorchZeroToAll/data/diabetes.csv.gz', delimiter=',', dtype = np.float32)\n",
        "x_data = from_numpy(xy[:, 0: -1])\n",
        "y_data = from_numpy(xy[:, [-1]])\n",
        "\n",
        "print(f'X\\'s shape: {x_data.shape} | Y\\'s shape: {y_data.shape}')"
      ],
      "metadata": {
        "colab": {
          "base_uri": "https://localhost:8080/"
        },
        "id": "mATnN4tuc9TC",
        "outputId": "93c85b97-0dcb-4320-9728-ed025c98d201"
      },
      "execution_count": 205,
      "outputs": [
        {
          "output_type": "stream",
          "name": "stdout",
          "text": [
            "X's shape: torch.Size([759, 8]) | Y's shape: torch.Size([759, 1])\n"
          ]
        }
      ]
    },
    {
      "cell_type": "code",
      "source": [
        "class Model(nn.Module):\n",
        "    def __init__(self):\n",
        "        super(Model, self).__init__()\n",
        "        self.l1 = nn.Linear(8, 6)\n",
        "        self.l2 = nn.Linear(6, 4)\n",
        "        self.l3 = nn.Linear(4, 1)\n",
        "\n",
        "        self.sigmoid = nn.Sigmoid()\n",
        "\n",
        "    def forward(self, x):\n",
        "        out1= self.sigmoid(self.l1(x))\n",
        "        out2 = self.sigmoid(self.l2(out1))\n",
        "        y_pred = self.sigmoid(self.l3(out2))\n",
        "        return y_pred\n",
        "\n",
        "model = Model()\n",
        "\n",
        "criterion = nn.BCELoss(reduction = 'mean')\n",
        "optimizer = optim.SGD(model.parameters(), lr = 0.1)\n",
        "\n",
        "for epoch in range(100):\n",
        "    # forward pass\n",
        "    y_pred = model(x_data)\n",
        "    # compute and print loss\n",
        "    loss = criterion(y_pred, y_data)\n",
        "    if epoch % 10 == 0:\n",
        "        print(f'Epoch {epoch + 1} / 100 | Loss : {loss.item():.4f}')\n",
        "\n",
        "    # zero gradients, perform a backward pass, update weights\n",
        "    optimizer.zero_grad()\n",
        "    loss.backward()\n",
        "    optimizer.step()"
      ],
      "metadata": {
        "colab": {
          "base_uri": "https://localhost:8080/"
        },
        "id": "v5eIknoJK324",
        "outputId": "61dc1e13-4e06-450f-c93b-083a1475aa9e"
      },
      "execution_count": 208,
      "outputs": [
        {
          "output_type": "stream",
          "name": "stdout",
          "text": [
            "Epoch 1 / 100 | Loss : 0.6928\n",
            "Epoch 11 / 100 | Loss : 0.6589\n",
            "Epoch 21 / 100 | Loss : 0.6494\n",
            "Epoch 31 / 100 | Loss : 0.6465\n",
            "Epoch 41 / 100 | Loss : 0.6457\n",
            "Epoch 51 / 100 | Loss : 0.6454\n",
            "Epoch 61 / 100 | Loss : 0.6453\n",
            "Epoch 71 / 100 | Loss : 0.6453\n",
            "Epoch 81 / 100 | Loss : 0.6453\n",
            "Epoch 91 / 100 | Loss : 0.6453\n"
          ]
        }
      ]
    },
    {
      "cell_type": "code",
      "source": [
        "import jax.numpy as jnp\n",
        "import numpy as np\n",
        "import optax\n",
        "import jax\n",
        "\n",
        "# define model using flax\n",
        "import flax.linen as nn\n",
        "\n",
        "@nn.compact\n",
        "class Model(nn.Module):\n",
        "    def setup(self):\n",
        "        self.l1 = nn.Dense(6)\n",
        "        self.l2 = nn.Dense(4)\n",
        "        self.l3 = nn.Dense(1)\n",
        "\n",
        "    def __call__(self, x):\n",
        "        out1 = nn.sigmoid(self.l1(x))\n",
        "        out2 = nn.sigmoid(self.l2(out1))\n",
        "        y_pred = nn.sigmoid(self.l3(out2))\n",
        "        return y_pred\n",
        "\n",
        "model = Model()\n",
        "\n",
        "# Define loss function\n",
        "def loss(params, model,  x, y):\n",
        "    logits = model.apply({\"params\": params}, x)\n",
        "    return jnp.mean(jax.nn.sigmoid_cross_entropy_with_logits(logits=logits, labels=y))\n",
        "\n",
        "# Initialize model parameters\n",
        "rng = jax.random.PRNGKey(0)\n",
        "params = model.init(rng, jnp.ones((1, 8), dtype=jnp.float32))\n",
        "\n",
        "\n",
        "# Initialize optimizer\n",
        "optimizer = optax.sgd(learning_rate=0.1)\n",
        "optimizer_state = optimizer.init(params)\n",
        "\n",
        "\n",
        "# Define training step\n",
        "@jax.jit\n",
        "def tarin_step(optimizer_state, x, y):\n",
        "    params = optimizer_state\n",
        "    grads = jax.grad(loss_fn)(params, model,  x, y)\n",
        "    updates, new_optimizer_state = optimizer.update(grads, optimizer_state)\n",
        "    new_params = optax.apply_updates(params, updates)\n",
        "    return new_params, new_optimizer_state\n",
        "\n",
        "# Training loop\n",
        "num_epochs = 100\n",
        "batch_size = 32\n",
        "for epoch in range(num_epochs):\n",
        "    optimizer_state, _ = train_step(optimizer_state, x_data, y_data)\n"
      ],
      "metadata": {
        "id": "hO19ys8T867l",
        "colab": {
          "base_uri": "https://localhost:8080/",
          "height": 443
        },
        "outputId": "75ebf177-f5a6-43b4-b7b5-f13b0e1da940"
      },
      "execution_count": 211,
      "outputs": [
        {
          "output_type": "error",
          "ename": "TypeError",
          "evalue": "Cannot interpret 'torch.float32' as a data type",
          "traceback": [
            "\u001b[0;31m---------------------------------------------------------------------------\u001b[0m",
            "\u001b[0;31mKeyError\u001b[0m                                  Traceback (most recent call last)",
            "\u001b[0;32m/usr/local/lib/python3.10/dist-packages/jax/_src/api_util.py\u001b[0m in \u001b[0;36mshaped_abstractify\u001b[0;34m(x)\u001b[0m\n\u001b[1;32m    583\u001b[0m   \u001b[0;32mtry\u001b[0m\u001b[0;34m:\u001b[0m\u001b[0;34m\u001b[0m\u001b[0;34m\u001b[0m\u001b[0m\n\u001b[0;32m--> 584\u001b[0;31m     \u001b[0;32mreturn\u001b[0m \u001b[0m_shaped_abstractify_handlers\u001b[0m\u001b[0;34m[\u001b[0m\u001b[0mtype\u001b[0m\u001b[0;34m(\u001b[0m\u001b[0mx\u001b[0m\u001b[0;34m)\u001b[0m\u001b[0;34m]\u001b[0m\u001b[0;34m(\u001b[0m\u001b[0mx\u001b[0m\u001b[0;34m)\u001b[0m\u001b[0;34m\u001b[0m\u001b[0;34m\u001b[0m\u001b[0m\n\u001b[0m\u001b[1;32m    585\u001b[0m   \u001b[0;32mexcept\u001b[0m \u001b[0mKeyError\u001b[0m\u001b[0;34m:\u001b[0m\u001b[0;34m\u001b[0m\u001b[0;34m\u001b[0m\u001b[0m\n",
            "\u001b[0;31mKeyError\u001b[0m: <class 'torch.Tensor'>",
            "\nDuring handling of the above exception, another exception occurred:\n",
            "\u001b[0;31mTypeError\u001b[0m                                 Traceback (most recent call last)",
            "\u001b[0;32m<ipython-input-211-76e88f1b8f27>\u001b[0m in \u001b[0;36m<cell line: 51>\u001b[0;34m()\u001b[0m\n\u001b[1;32m     50\u001b[0m \u001b[0mbatch_size\u001b[0m \u001b[0;34m=\u001b[0m \u001b[0;36m32\u001b[0m\u001b[0;34m\u001b[0m\u001b[0;34m\u001b[0m\u001b[0m\n\u001b[1;32m     51\u001b[0m \u001b[0;32mfor\u001b[0m \u001b[0mepoch\u001b[0m \u001b[0;32min\u001b[0m \u001b[0mrange\u001b[0m\u001b[0;34m(\u001b[0m\u001b[0mnum_epochs\u001b[0m\u001b[0;34m)\u001b[0m\u001b[0;34m:\u001b[0m\u001b[0;34m\u001b[0m\u001b[0;34m\u001b[0m\u001b[0m\n\u001b[0;32m---> 52\u001b[0;31m     \u001b[0moptimizer_state\u001b[0m\u001b[0;34m,\u001b[0m \u001b[0m_\u001b[0m \u001b[0;34m=\u001b[0m \u001b[0mtrain_step\u001b[0m\u001b[0;34m(\u001b[0m\u001b[0moptimizer_state\u001b[0m\u001b[0;34m,\u001b[0m \u001b[0mx_data\u001b[0m\u001b[0;34m,\u001b[0m \u001b[0my_data\u001b[0m\u001b[0;34m)\u001b[0m\u001b[0;34m\u001b[0m\u001b[0;34m\u001b[0m\u001b[0m\n\u001b[0m",
            "    \u001b[0;31m[... skipping hidden 9 frame]\u001b[0m\n",
            "\u001b[0;32m/usr/local/lib/python3.10/dist-packages/jax/_src/dtypes.py\u001b[0m in \u001b[0;36missubdtype\u001b[0;34m(a, b)\u001b[0m\n\u001b[1;32m    341\u001b[0m     \u001b[0;32mif\u001b[0m \u001b[0m_issubclass\u001b[0m\u001b[0;34m(\u001b[0m\u001b[0ma\u001b[0m\u001b[0;34m,\u001b[0m \u001b[0mnp\u001b[0m\u001b[0;34m.\u001b[0m\u001b[0mgeneric\u001b[0m\u001b[0;34m)\u001b[0m\u001b[0;34m:\u001b[0m\u001b[0;34m\u001b[0m\u001b[0;34m\u001b[0m\u001b[0m\n\u001b[1;32m    342\u001b[0m       \u001b[0;32mreturn\u001b[0m \u001b[0m_issubclass\u001b[0m\u001b[0;34m(\u001b[0m\u001b[0ma\u001b[0m\u001b[0;34m,\u001b[0m \u001b[0mb\u001b[0m\u001b[0;34m)\u001b[0m\u001b[0;34m\u001b[0m\u001b[0;34m\u001b[0m\u001b[0m\n\u001b[0;32m--> 343\u001b[0;31m     \u001b[0;32mreturn\u001b[0m \u001b[0m_issubclass\u001b[0m\u001b[0;34m(\u001b[0m\u001b[0mnp\u001b[0m\u001b[0;34m.\u001b[0m\u001b[0mdtype\u001b[0m\u001b[0;34m(\u001b[0m\u001b[0ma\u001b[0m\u001b[0;34m)\u001b[0m\u001b[0;34m.\u001b[0m\u001b[0mtype\u001b[0m\u001b[0;34m,\u001b[0m \u001b[0mb\u001b[0m\u001b[0;34m)\u001b[0m\u001b[0;34m\u001b[0m\u001b[0;34m\u001b[0m\u001b[0m\n\u001b[0m\u001b[1;32m    344\u001b[0m   \u001b[0;32mif\u001b[0m \u001b[0misinstance\u001b[0m\u001b[0;34m(\u001b[0m\u001b[0mb\u001b[0m\u001b[0;34m,\u001b[0m \u001b[0mExtendedDType\u001b[0m\u001b[0;34m)\u001b[0m\u001b[0;34m:\u001b[0m\u001b[0;34m\u001b[0m\u001b[0;34m\u001b[0m\u001b[0m\n\u001b[1;32m    345\u001b[0m     \u001b[0;32mreturn\u001b[0m \u001b[0misinstance\u001b[0m\u001b[0;34m(\u001b[0m\u001b[0ma\u001b[0m\u001b[0;34m,\u001b[0m \u001b[0mExtendedDType\u001b[0m\u001b[0;34m)\u001b[0m \u001b[0;32mand\u001b[0m \u001b[0ma\u001b[0m \u001b[0;34m==\u001b[0m \u001b[0mb\u001b[0m\u001b[0;34m\u001b[0m\u001b[0;34m\u001b[0m\u001b[0m\n",
            "\u001b[0;31mTypeError\u001b[0m: Cannot interpret 'torch.float32' as a data type"
          ]
        }
      ]
    },
    {
      "cell_type": "code",
      "source": [
        "x_data"
      ],
      "metadata": {
        "id": "LOV22fExbZCq",
        "outputId": "4223d6a4-ca6f-47e4-ee12-91931299952d",
        "colab": {
          "base_uri": "https://localhost:8080/"
        }
      },
      "execution_count": 214,
      "outputs": [
        {
          "output_type": "execute_result",
          "data": {
            "text/plain": [
              "tensor([[-0.2941,  0.4874,  0.1803,  ...,  0.0015, -0.5312, -0.0333],\n",
              "        [-0.8824, -0.1457,  0.0820,  ..., -0.2072, -0.7669, -0.6667],\n",
              "        [-0.0588,  0.8392,  0.0492,  ..., -0.3055, -0.4927, -0.6333],\n",
              "        ...,\n",
              "        [-0.4118,  0.2161,  0.1803,  ..., -0.2191, -0.8574, -0.7000],\n",
              "        [-0.8824,  0.2663, -0.0164,  ..., -0.1028, -0.7686, -0.1333],\n",
              "        [-0.8824, -0.0653,  0.1475,  ..., -0.0939, -0.7976, -0.9333]])"
            ]
          },
          "metadata": {},
          "execution_count": 214
        }
      ]
    },
    {
      "cell_type": "markdown",
      "source": [],
      "metadata": {
        "id": "4lXvOKRHbY4I"
      }
    },
    {
      "cell_type": "code",
      "source": [
        "i\n",
        "\n",
        "\n",
        "\n",
        "# Initialize optimizer\n",
        "optimizer = optax.sgd(learning_rate=0.1)\n",
        "optimizer_state = optimizer.init(params)\n",
        "\n",
        "# Define training step\n",
        "@jax.jit\n",
        "def train_step(optimizer_state, batch):\n",
        "    params = optimizer_state\n",
        "    grads = jax.grad(loss_fn)(params, model, batch)\n",
        "    updates, new_optimizer_state = optimizer.update(grads, optimizer_state)\n",
        "    new_params = optax.apply_updates(params, updates)\n",
        "    return new_params, new_optimizer_state\n",
        "\n",
        "# Define data loader function\n",
        "def data_loader(x_data, y_data, batch_size=32, shuffle=True):\n",
        "    num_samples = len(x_data)\n",
        "    indices = jax.random.permutation(rng, num_samples)\n",
        "    for i in range(0, num_samples, batch_size):\n",
        "        batch_indices = indices[i:i+batch_size]\n",
        "        yield x_data[batch_indices], y_data[batch_indices]\n",
        "\n",
        "# Training loop\n",
        "num_epochs = 100\n",
        "batch_size = 32\n",
        "for epoch in range(num_epochs):\n",
        "    for batch in data_loader(x_data, y_data, batch_size=batch_size):\n",
        "        optimizer_state, _ = train_step(optimizer_state, batch)\n"
      ],
      "metadata": {
        "id": "wKfT99yfhcjf",
        "colab": {
          "base_uri": "https://localhost:8080/",
          "height": 810
        },
        "outputId": "4fb7f370-c9e8-42a8-8846-4432107bb856"
      },
      "execution_count": null,
      "outputs": [
        {
          "output_type": "error",
          "ename": "ApplyScopeInvalidVariablesTypeError",
          "evalue": "The first argument passed to an apply function should be a dictionary of collections. Each collection should be a dictionary with string keys. (https://flax.readthedocs.io/en/latest/api_reference/flax.errors.html#flax.errors.ApplyScopeInvalidVariablesTypeError)",
          "traceback": [
            "\u001b[0;31m---------------------------------------------------------------------------\u001b[0m",
            "\u001b[0;31mApplyScopeInvalidVariablesTypeError\u001b[0m       Traceback (most recent call last)",
            "\u001b[0;32m<ipython-input-82-23806569e47b>\u001b[0m in \u001b[0;36m<cell line: 63>\u001b[0;34m()\u001b[0m\n\u001b[1;32m     63\u001b[0m \u001b[0;32mfor\u001b[0m \u001b[0mepoch\u001b[0m \u001b[0;32min\u001b[0m \u001b[0mrange\u001b[0m\u001b[0;34m(\u001b[0m\u001b[0mnum_epochs\u001b[0m\u001b[0;34m)\u001b[0m\u001b[0;34m:\u001b[0m\u001b[0;34m\u001b[0m\u001b[0;34m\u001b[0m\u001b[0m\n\u001b[1;32m     64\u001b[0m     \u001b[0;32mfor\u001b[0m \u001b[0mbatch\u001b[0m \u001b[0;32min\u001b[0m \u001b[0mdata_loader\u001b[0m\u001b[0;34m(\u001b[0m\u001b[0mx_data\u001b[0m\u001b[0;34m,\u001b[0m \u001b[0my_data\u001b[0m\u001b[0;34m,\u001b[0m \u001b[0mbatch_size\u001b[0m\u001b[0;34m=\u001b[0m\u001b[0mbatch_size\u001b[0m\u001b[0;34m)\u001b[0m\u001b[0;34m:\u001b[0m\u001b[0;34m\u001b[0m\u001b[0;34m\u001b[0m\u001b[0m\n\u001b[0;32m---> 65\u001b[0;31m         \u001b[0moptimizer_state\u001b[0m\u001b[0;34m,\u001b[0m \u001b[0m_\u001b[0m \u001b[0;34m=\u001b[0m \u001b[0mtrain_step\u001b[0m\u001b[0;34m(\u001b[0m\u001b[0moptimizer_state\u001b[0m\u001b[0;34m,\u001b[0m \u001b[0mbatch\u001b[0m\u001b[0;34m)\u001b[0m\u001b[0;34m\u001b[0m\u001b[0;34m\u001b[0m\u001b[0m\n\u001b[0m",
            "    \u001b[0;31m[... skipping hidden 11 frame]\u001b[0m\n",
            "\u001b[0;32m<ipython-input-82-23806569e47b>\u001b[0m in \u001b[0;36mtrain_step\u001b[0;34m(optimizer_state, batch)\u001b[0m\n\u001b[1;32m     45\u001b[0m \u001b[0;32mdef\u001b[0m \u001b[0mtrain_step\u001b[0m\u001b[0;34m(\u001b[0m\u001b[0moptimizer_state\u001b[0m\u001b[0;34m,\u001b[0m \u001b[0mbatch\u001b[0m\u001b[0;34m)\u001b[0m\u001b[0;34m:\u001b[0m\u001b[0;34m\u001b[0m\u001b[0;34m\u001b[0m\u001b[0m\n\u001b[1;32m     46\u001b[0m     \u001b[0mparams\u001b[0m \u001b[0;34m=\u001b[0m \u001b[0moptimizer_state\u001b[0m\u001b[0;34m\u001b[0m\u001b[0;34m\u001b[0m\u001b[0m\n\u001b[0;32m---> 47\u001b[0;31m     \u001b[0mgrads\u001b[0m \u001b[0;34m=\u001b[0m \u001b[0mjax\u001b[0m\u001b[0;34m.\u001b[0m\u001b[0mgrad\u001b[0m\u001b[0;34m(\u001b[0m\u001b[0mloss_fn\u001b[0m\u001b[0;34m)\u001b[0m\u001b[0;34m(\u001b[0m\u001b[0mparams\u001b[0m\u001b[0;34m,\u001b[0m \u001b[0mmodel\u001b[0m\u001b[0;34m,\u001b[0m \u001b[0mbatch\u001b[0m\u001b[0;34m)\u001b[0m\u001b[0;34m\u001b[0m\u001b[0;34m\u001b[0m\u001b[0m\n\u001b[0m\u001b[1;32m     48\u001b[0m     \u001b[0mupdates\u001b[0m\u001b[0;34m,\u001b[0m \u001b[0mnew_optimizer_state\u001b[0m \u001b[0;34m=\u001b[0m \u001b[0moptimizer\u001b[0m\u001b[0;34m.\u001b[0m\u001b[0mupdate\u001b[0m\u001b[0;34m(\u001b[0m\u001b[0mgrads\u001b[0m\u001b[0;34m,\u001b[0m \u001b[0moptimizer_state\u001b[0m\u001b[0;34m)\u001b[0m\u001b[0;34m\u001b[0m\u001b[0;34m\u001b[0m\u001b[0m\n\u001b[1;32m     49\u001b[0m     \u001b[0mnew_params\u001b[0m \u001b[0;34m=\u001b[0m \u001b[0moptax\u001b[0m\u001b[0;34m.\u001b[0m\u001b[0mapply_updates\u001b[0m\u001b[0;34m(\u001b[0m\u001b[0mparams\u001b[0m\u001b[0;34m,\u001b[0m \u001b[0mupdates\u001b[0m\u001b[0;34m)\u001b[0m\u001b[0;34m\u001b[0m\u001b[0;34m\u001b[0m\u001b[0m\n",
            "    \u001b[0;31m[... skipping hidden 10 frame]\u001b[0m\n",
            "\u001b[0;32m<ipython-input-82-23806569e47b>\u001b[0m in \u001b[0;36mloss_fn\u001b[0;34m(params, model, batch)\u001b[0m\n\u001b[1;32m     30\u001b[0m \u001b[0;32mdef\u001b[0m \u001b[0mloss_fn\u001b[0m\u001b[0;34m(\u001b[0m\u001b[0mparams\u001b[0m\u001b[0;34m,\u001b[0m \u001b[0mmodel\u001b[0m\u001b[0;34m,\u001b[0m \u001b[0mbatch\u001b[0m\u001b[0;34m)\u001b[0m\u001b[0;34m:\u001b[0m\u001b[0;34m\u001b[0m\u001b[0;34m\u001b[0m\u001b[0m\n\u001b[1;32m     31\u001b[0m     \u001b[0minputs\u001b[0m\u001b[0;34m,\u001b[0m \u001b[0mtargets\u001b[0m \u001b[0;34m=\u001b[0m \u001b[0mbatch\u001b[0m\u001b[0;34m\u001b[0m\u001b[0;34m\u001b[0m\u001b[0m\n\u001b[0;32m---> 32\u001b[0;31m     \u001b[0mlogits\u001b[0m \u001b[0;34m=\u001b[0m \u001b[0mmodel\u001b[0m\u001b[0;34m.\u001b[0m\u001b[0mapply\u001b[0m\u001b[0;34m(\u001b[0m\u001b[0;34m{\u001b[0m\u001b[0;34m\"params\"\u001b[0m\u001b[0;34m:\u001b[0m \u001b[0mparams\u001b[0m\u001b[0;34m}\u001b[0m\u001b[0;34m,\u001b[0m \u001b[0minputs\u001b[0m\u001b[0;34m)\u001b[0m\u001b[0;34m\u001b[0m\u001b[0;34m\u001b[0m\u001b[0m\n\u001b[0m\u001b[1;32m     33\u001b[0m     \u001b[0;32mreturn\u001b[0m \u001b[0mjnp\u001b[0m\u001b[0;34m.\u001b[0m\u001b[0mmean\u001b[0m\u001b[0;34m(\u001b[0m\u001b[0mjax\u001b[0m\u001b[0;34m.\u001b[0m\u001b[0mnn\u001b[0m\u001b[0;34m.\u001b[0m\u001b[0msigmoid_cross_entropy_with_logits\u001b[0m\u001b[0;34m(\u001b[0m\u001b[0mlogits\u001b[0m\u001b[0;34m=\u001b[0m\u001b[0mlogits\u001b[0m\u001b[0;34m,\u001b[0m \u001b[0mlabels\u001b[0m\u001b[0;34m=\u001b[0m\u001b[0mtargets\u001b[0m\u001b[0;34m)\u001b[0m\u001b[0;34m)\u001b[0m\u001b[0;34m\u001b[0m\u001b[0;34m\u001b[0m\u001b[0m\n\u001b[1;32m     34\u001b[0m \u001b[0;34m\u001b[0m\u001b[0m\n",
            "    \u001b[0;31m[... skipping hidden 3 frame]\u001b[0m\n",
            "\u001b[0;32m/usr/local/lib/python3.10/dist-packages/flax/core/scope.py\u001b[0m in \u001b[0;36mbind\u001b[0;34m(variables, rngs, mutable, flags)\u001b[0m\n\u001b[1;32m    871\u001b[0m   \"\"\"\n\u001b[1;32m    872\u001b[0m   \u001b[0;32mif\u001b[0m \u001b[0;32mnot\u001b[0m \u001b[0m_is_valid_variables\u001b[0m\u001b[0;34m(\u001b[0m\u001b[0mvariables\u001b[0m\u001b[0;34m)\u001b[0m\u001b[0;34m:\u001b[0m\u001b[0;34m\u001b[0m\u001b[0;34m\u001b[0m\u001b[0m\n\u001b[0;32m--> 873\u001b[0;31m     \u001b[0;32mraise\u001b[0m \u001b[0merrors\u001b[0m\u001b[0;34m.\u001b[0m\u001b[0mApplyScopeInvalidVariablesTypeError\u001b[0m\u001b[0;34m(\u001b[0m\u001b[0;34m)\u001b[0m\u001b[0;34m\u001b[0m\u001b[0;34m\u001b[0m\u001b[0m\n\u001b[0m\u001b[1;32m    874\u001b[0m   \u001b[0;32mif\u001b[0m \u001b[0mrngs\u001b[0m \u001b[0;32mis\u001b[0m \u001b[0;32mnot\u001b[0m \u001b[0;32mNone\u001b[0m \u001b[0;32mand\u001b[0m \u001b[0;32mnot\u001b[0m \u001b[0m_is_valid_rngs\u001b[0m\u001b[0;34m(\u001b[0m\u001b[0mrngs\u001b[0m\u001b[0;34m)\u001b[0m\u001b[0;34m:\u001b[0m\u001b[0;34m\u001b[0m\u001b[0;34m\u001b[0m\u001b[0m\n\u001b[1;32m    875\u001b[0m     raise errors.InvalidRngError(\n",
            "\u001b[0;31mApplyScopeInvalidVariablesTypeError\u001b[0m: The first argument passed to an apply function should be a dictionary of collections. Each collection should be a dictionary with string keys. (https://flax.readthedocs.io/en/latest/api_reference/flax.errors.html#flax.errors.ApplyScopeInvalidVariablesTypeError)"
          ]
        }
      ]
    },
    {
      "cell_type": "markdown",
      "source": [
        "# 08_1_dataset_loader.py"
      ],
      "metadata": {
        "id": "gKgs1x7JJ0Nj"
      }
    },
    {
      "cell_type": "markdown",
      "source": [
        "## with jax"
      ],
      "metadata": {
        "id": "b4lJ7zY_J2bM"
      }
    },
    {
      "cell_type": "markdown",
      "source": [
        "# 08_2_dataset_loade_logistic.py"
      ],
      "metadata": {
        "id": "Ih-LpVfMJ4Bs"
      }
    },
    {
      "cell_type": "markdown",
      "source": [
        "## with jax"
      ],
      "metadata": {
        "id": "G8l60JQ-J5xi"
      }
    },
    {
      "cell_type": "markdown",
      "source": [
        "# 09_01_softmax_loss.py"
      ],
      "metadata": {
        "id": "xLav_RkcJ75s"
      }
    },
    {
      "cell_type": "markdown",
      "source": [
        "## with jax"
      ],
      "metadata": {
        "id": "TvToaJ-MJ9_R"
      }
    },
    {
      "cell_type": "markdown",
      "source": [
        "# 09_2_softmax_mnist.py"
      ],
      "metadata": {
        "id": "gPbAF030J_SG"
      }
    },
    {
      "cell_type": "markdown",
      "source": [
        "## with jax"
      ],
      "metadata": {
        "id": "Kc6nCi7tKBHR"
      }
    },
    {
      "cell_type": "markdown",
      "source": [
        "# 10_1_cnn_mnist.py"
      ],
      "metadata": {
        "id": "R2LGH_duKB-a"
      }
    },
    {
      "cell_type": "markdown",
      "source": [
        "## with jax"
      ],
      "metadata": {
        "id": "FtPt2hf0KDa7"
      }
    },
    {
      "cell_type": "markdown",
      "source": [
        "# 11_1_toy_inception_mnist.py"
      ],
      "metadata": {
        "id": "O4NXyBocKEcf"
      }
    },
    {
      "cell_type": "markdown",
      "source": [
        "## with jax"
      ],
      "metadata": {
        "id": "_s44p2oKKGhl"
      }
    },
    {
      "cell_type": "markdown",
      "source": [
        "# 12_1_rnn_basics.py"
      ],
      "metadata": {
        "id": "wZgP5ZwvKI6B"
      }
    },
    {
      "cell_type": "markdown",
      "source": [
        "## with jax"
      ],
      "metadata": {
        "id": "mhaNAZoSKMQ5"
      }
    },
    {
      "cell_type": "markdown",
      "source": [
        "# 12_2_hello_rnn.py"
      ],
      "metadata": {
        "id": "gJy4ZIXbKNS1"
      }
    },
    {
      "cell_type": "markdown",
      "source": [
        "## with jax"
      ],
      "metadata": {
        "id": "wH6iOSC6KPOr"
      }
    },
    {
      "cell_type": "markdown",
      "source": [
        "# 12_3_hello_rnn_seq.py"
      ],
      "metadata": {
        "id": "hBgui7E4KQLN"
      }
    },
    {
      "cell_type": "markdown",
      "source": [
        "## with jax"
      ],
      "metadata": {
        "id": "xTxWr73YKShL"
      }
    },
    {
      "cell_type": "code",
      "source": [],
      "metadata": {
        "id": "MWY427gCJ2PZ"
      },
      "execution_count": null,
      "outputs": []
    },
    {
      "cell_type": "markdown",
      "source": [
        "# 12_4_hello_rnn_emb.py"
      ],
      "metadata": {
        "id": "U-gTUJ9qKUnE"
      }
    },
    {
      "cell_type": "markdown",
      "source": [
        "## with jax"
      ],
      "metadata": {
        "id": "ENmCIGWeKd7f"
      }
    },
    {
      "cell_type": "markdown",
      "source": [
        "# 13_1_rnn_classification_basics.py"
      ],
      "metadata": {
        "id": "dzXxTIzNKfBu"
      }
    },
    {
      "cell_type": "markdown",
      "source": [
        "## with jax"
      ],
      "metadata": {
        "id": "3FakOCxPKgl5"
      }
    },
    {
      "cell_type": "markdown",
      "source": [
        "# 13_2_rnn_classification.py"
      ],
      "metadata": {
        "id": "K7zWVLCtKi6x"
      }
    },
    {
      "cell_type": "markdown",
      "source": [
        "## with jax"
      ],
      "metadata": {
        "id": "KPoBOIxaKj6r"
      }
    },
    {
      "cell_type": "markdown",
      "source": [
        "# 13_3_char_rnn.py"
      ],
      "metadata": {
        "id": "XhWuA19xKlQL"
      }
    },
    {
      "cell_type": "markdown",
      "source": [
        "## with jax"
      ],
      "metadata": {
        "id": "FiJofYEzKnMd"
      }
    },
    {
      "cell_type": "markdown",
      "source": [
        "# 13_4_pack_pad.py"
      ],
      "metadata": {
        "id": "L7xY_JrmKojE"
      }
    },
    {
      "cell_type": "markdown",
      "source": [
        "## with jax"
      ],
      "metadata": {
        "id": "hy0sI3wfKqBv"
      }
    },
    {
      "cell_type": "markdown",
      "source": [
        "# 14_1_seq2seq.py"
      ],
      "metadata": {
        "id": "dW5jQhhZKsST"
      }
    },
    {
      "cell_type": "markdown",
      "source": [
        "## with jax"
      ],
      "metadata": {
        "id": "ubtPPVAQKtHo"
      }
    },
    {
      "cell_type": "markdown",
      "source": [
        "# 14_2_seq2seq_att.py"
      ],
      "metadata": {
        "id": "hMGApMnOKuBl"
      }
    },
    {
      "cell_type": "markdown",
      "source": [
        "## with jax"
      ],
      "metadata": {
        "id": "koqLEVDlKvUB"
      }
    },
    {
      "cell_type": "markdown",
      "source": [],
      "metadata": {
        "id": "bBFN1MP_Kk_T"
      }
    },
    {
      "cell_type": "markdown",
      "source": [],
      "metadata": {
        "id": "ZfuoFA4QJ0KQ"
      }
    },
    {
      "cell_type": "markdown",
      "source": [],
      "metadata": {
        "id": "CSdL6wYdJ0II"
      }
    },
    {
      "cell_type": "markdown",
      "source": [],
      "metadata": {
        "id": "uToGsyJZJ0Fc"
      }
    },
    {
      "cell_type": "markdown",
      "source": [],
      "metadata": {
        "id": "aLaVPY9tJz-a"
      }
    },
    {
      "cell_type": "code",
      "source": [],
      "metadata": {
        "id": "f7AdREOKhiKt"
      },
      "execution_count": null,
      "outputs": []
    }
  ],
  "metadata": {
    "colab": {
      "name": "pytorch_to_jax",
      "provenance": [],
      "collapsed_sections": [
        "gKgs1x7JJ0Nj",
        "Ih-LpVfMJ4Bs",
        "xLav_RkcJ75s",
        "gPbAF030J_SG",
        "R2LGH_duKB-a",
        "O4NXyBocKEcf",
        "wZgP5ZwvKI6B",
        "gJy4ZIXbKNS1",
        "hBgui7E4KQLN"
      ],
      "include_colab_link": true
    },
    "kernelspec": {
      "display_name": "Python 3",
      "name": "python3"
    }
  },
  "nbformat": 4,
  "nbformat_minor": 0
}